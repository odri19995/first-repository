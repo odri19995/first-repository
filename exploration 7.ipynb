{
 "cells": [
  {
   "cell_type": "code",
   "execution_count": 2,
   "id": "e90f21fe",
   "metadata": {
    "scrolled": true
   },
   "outputs": [
    {
     "name": "stderr",
     "output_type": "stream",
     "text": [
      "[nltk_data] Downloading package stopwords to /aiffel/nltk_data...\n",
      "[nltk_data]   Unzipping corpora/stopwords.zip.\n"
     ]
    },
    {
     "name": "stdout",
     "output_type": "stream",
     "text": [
      "=3\n"
     ]
    }
   ],
   "source": [
    "import nltk\n",
    "from importlib.metadata import version\n",
    "nltk.download('stopwords')\n",
    "import tensorflow\n",
    "import summa\n",
    "\n",
    "import numpy as np\n",
    "import pandas as pd\n",
    "import os\n",
    "import re\n",
    "import matplotlib.pyplot as plt\n",
    "from nltk.corpus import stopwords\n",
    "from bs4 import BeautifulSoup \n",
    "from tensorflow.keras.preprocessing.text import Tokenizer \n",
    "from tensorflow.keras.preprocessing.sequence import pad_sequences\n",
    "import urllib.request\n",
    "import warnings\n",
    "warnings.filterwarnings(\"ignore\", category=UserWarning, module='bs4')\n",
    "\n",
    "print('=3')"
   ]
  },
  {
   "cell_type": "markdown",
   "id": "bb0c5d78",
   "metadata": {},
   "source": [
    "##  1. 데이터 수집하기 "
   ]
  },
  {
   "cell_type": "code",
   "execution_count": 15,
   "id": "ecbf5f54",
   "metadata": {},
   "outputs": [],
   "source": [
    "import urllib.request\n",
    "urllib.request.urlretrieve(\"https://raw.githubusercontent.com/sunnysai12345/News_Summary/master/news_summary_more.csv\", filename=\"news_summary_more.csv\")\n",
    "data = pd.read_csv('news_summary_more.csv', encoding='iso-8859-1')"
   ]
  },
  {
   "cell_type": "markdown",
   "id": "f31fceab",
   "metadata": {},
   "source": [
    "데이터는 뉴스 기사 데이터(news_summary_more.csv)를 가져왔다.."
   ]
  },
  {
   "cell_type": "code",
   "execution_count": 16,
   "id": "e03723dd",
   "metadata": {},
   "outputs": [
    {
     "data": {
      "text/html": [
       "<div>\n",
       "<style scoped>\n",
       "    .dataframe tbody tr th:only-of-type {\n",
       "        vertical-align: middle;\n",
       "    }\n",
       "\n",
       "    .dataframe tbody tr th {\n",
       "        vertical-align: top;\n",
       "    }\n",
       "\n",
       "    .dataframe thead th {\n",
       "        text-align: right;\n",
       "    }\n",
       "</style>\n",
       "<table border=\"1\" class=\"dataframe\">\n",
       "  <thead>\n",
       "    <tr style=\"text-align: right;\">\n",
       "      <th></th>\n",
       "      <th>headlines</th>\n",
       "      <th>text</th>\n",
       "    </tr>\n",
       "  </thead>\n",
       "  <tbody>\n",
       "    <tr>\n",
       "      <th>0</th>\n",
       "      <td>upGrad learner switches to career in ML &amp; Al w...</td>\n",
       "      <td>Saurav Kant, an alumnus of upGrad and IIIT-B's...</td>\n",
       "    </tr>\n",
       "    <tr>\n",
       "      <th>1</th>\n",
       "      <td>Delhi techie wins free food from Swiggy for on...</td>\n",
       "      <td>Kunal Shah's credit card bill payment platform...</td>\n",
       "    </tr>\n",
       "    <tr>\n",
       "      <th>2</th>\n",
       "      <td>New Zealand end Rohit Sharma-led India's 12-ma...</td>\n",
       "      <td>New Zealand defeated India by 8 wickets in the...</td>\n",
       "    </tr>\n",
       "    <tr>\n",
       "      <th>3</th>\n",
       "      <td>Aegon life iTerm insurance plan helps customer...</td>\n",
       "      <td>With Aegon Life iTerm Insurance plan, customer...</td>\n",
       "    </tr>\n",
       "    <tr>\n",
       "      <th>4</th>\n",
       "      <td>Have known Hirani for yrs, what if MeToo claim...</td>\n",
       "      <td>Speaking about the sexual harassment allegatio...</td>\n",
       "    </tr>\n",
       "    <tr>\n",
       "      <th>5</th>\n",
       "      <td>Rahat Fateh Ali Khan denies getting notice for...</td>\n",
       "      <td>Pakistani singer Rahat Fateh Ali Khan has deni...</td>\n",
       "    </tr>\n",
       "    <tr>\n",
       "      <th>6</th>\n",
       "      <td>India get all out for 92, their lowest ODI tot...</td>\n",
       "      <td>India recorded their lowest ODI total in New Z...</td>\n",
       "    </tr>\n",
       "    <tr>\n",
       "      <th>7</th>\n",
       "      <td>Govt directs Alok Verma to join work 1 day bef...</td>\n",
       "      <td>Weeks after ex-CBI Director Alok Verma told th...</td>\n",
       "    </tr>\n",
       "    <tr>\n",
       "      <th>8</th>\n",
       "      <td>Called PM Modi 'sir' 10 times to satisfy his e...</td>\n",
       "      <td>Andhra Pradesh CM N Chandrababu Naidu has said...</td>\n",
       "    </tr>\n",
       "    <tr>\n",
       "      <th>9</th>\n",
       "      <td>Cong wins Ramgarh bypoll in Rajasthan, takes t...</td>\n",
       "      <td>Congress candidate Shafia Zubair won the Ramga...</td>\n",
       "    </tr>\n",
       "  </tbody>\n",
       "</table>\n",
       "</div>"
      ],
      "text/plain": [
       "                                           headlines  \\\n",
       "0  upGrad learner switches to career in ML & Al w...   \n",
       "1  Delhi techie wins free food from Swiggy for on...   \n",
       "2  New Zealand end Rohit Sharma-led India's 12-ma...   \n",
       "3  Aegon life iTerm insurance plan helps customer...   \n",
       "4  Have known Hirani for yrs, what if MeToo claim...   \n",
       "5  Rahat Fateh Ali Khan denies getting notice for...   \n",
       "6  India get all out for 92, their lowest ODI tot...   \n",
       "7  Govt directs Alok Verma to join work 1 day bef...   \n",
       "8  Called PM Modi 'sir' 10 times to satisfy his e...   \n",
       "9  Cong wins Ramgarh bypoll in Rajasthan, takes t...   \n",
       "\n",
       "                                                text  \n",
       "0  Saurav Kant, an alumnus of upGrad and IIIT-B's...  \n",
       "1  Kunal Shah's credit card bill payment platform...  \n",
       "2  New Zealand defeated India by 8 wickets in the...  \n",
       "3  With Aegon Life iTerm Insurance plan, customer...  \n",
       "4  Speaking about the sexual harassment allegatio...  \n",
       "5  Pakistani singer Rahat Fateh Ali Khan has deni...  \n",
       "6  India recorded their lowest ODI total in New Z...  \n",
       "7  Weeks after ex-CBI Director Alok Verma told th...  \n",
       "8  Andhra Pradesh CM N Chandrababu Naidu has said...  \n",
       "9  Congress candidate Shafia Zubair won the Ramga...  "
      ]
     },
     "execution_count": 16,
     "metadata": {},
     "output_type": "execute_result"
    }
   ],
   "source": [
    "data.head(10)"
   ]
  },
  {
   "cell_type": "code",
   "execution_count": 11,
   "id": "fbd45536",
   "metadata": {},
   "outputs": [],
   "source": [
    "data = data[['text','headlines']]"
   ]
  },
  {
   "cell_type": "code",
   "execution_count": 14,
   "id": "982c1e63",
   "metadata": {},
   "outputs": [
    {
     "data": {
      "text/html": [
       "<div>\n",
       "<style scoped>\n",
       "    .dataframe tbody tr th:only-of-type {\n",
       "        vertical-align: middle;\n",
       "    }\n",
       "\n",
       "    .dataframe tbody tr th {\n",
       "        vertical-align: top;\n",
       "    }\n",
       "\n",
       "    .dataframe thead th {\n",
       "        text-align: right;\n",
       "    }\n",
       "</style>\n",
       "<table border=\"1\" class=\"dataframe\">\n",
       "  <thead>\n",
       "    <tr style=\"text-align: right;\">\n",
       "      <th></th>\n",
       "      <th>text</th>\n",
       "      <th>headlines</th>\n",
       "    </tr>\n",
       "  </thead>\n",
       "  <tbody>\n",
       "    <tr>\n",
       "      <th>0</th>\n",
       "      <td>Saurav Kant, an alumnus of upGrad and IIIT-B's...</td>\n",
       "      <td>upGrad learner switches to career in ML &amp; Al w...</td>\n",
       "    </tr>\n",
       "    <tr>\n",
       "      <th>1</th>\n",
       "      <td>Kunal Shah's credit card bill payment platform...</td>\n",
       "      <td>Delhi techie wins free food from Swiggy for on...</td>\n",
       "    </tr>\n",
       "    <tr>\n",
       "      <th>2</th>\n",
       "      <td>New Zealand defeated India by 8 wickets in the...</td>\n",
       "      <td>New Zealand end Rohit Sharma-led India's 12-ma...</td>\n",
       "    </tr>\n",
       "    <tr>\n",
       "      <th>3</th>\n",
       "      <td>With Aegon Life iTerm Insurance plan, customer...</td>\n",
       "      <td>Aegon life iTerm insurance plan helps customer...</td>\n",
       "    </tr>\n",
       "    <tr>\n",
       "      <th>4</th>\n",
       "      <td>Speaking about the sexual harassment allegatio...</td>\n",
       "      <td>Have known Hirani for yrs, what if MeToo claim...</td>\n",
       "    </tr>\n",
       "    <tr>\n",
       "      <th>5</th>\n",
       "      <td>Pakistani singer Rahat Fateh Ali Khan has deni...</td>\n",
       "      <td>Rahat Fateh Ali Khan denies getting notice for...</td>\n",
       "    </tr>\n",
       "    <tr>\n",
       "      <th>6</th>\n",
       "      <td>India recorded their lowest ODI total in New Z...</td>\n",
       "      <td>India get all out for 92, their lowest ODI tot...</td>\n",
       "    </tr>\n",
       "    <tr>\n",
       "      <th>7</th>\n",
       "      <td>Weeks after ex-CBI Director Alok Verma told th...</td>\n",
       "      <td>Govt directs Alok Verma to join work 1 day bef...</td>\n",
       "    </tr>\n",
       "    <tr>\n",
       "      <th>8</th>\n",
       "      <td>Andhra Pradesh CM N Chandrababu Naidu has said...</td>\n",
       "      <td>Called PM Modi 'sir' 10 times to satisfy his e...</td>\n",
       "    </tr>\n",
       "    <tr>\n",
       "      <th>9</th>\n",
       "      <td>Congress candidate Shafia Zubair won the Ramga...</td>\n",
       "      <td>Cong wins Ramgarh bypoll in Rajasthan, takes t...</td>\n",
       "    </tr>\n",
       "  </tbody>\n",
       "</table>\n",
       "</div>"
      ],
      "text/plain": [
       "                                                text  \\\n",
       "0  Saurav Kant, an alumnus of upGrad and IIIT-B's...   \n",
       "1  Kunal Shah's credit card bill payment platform...   \n",
       "2  New Zealand defeated India by 8 wickets in the...   \n",
       "3  With Aegon Life iTerm Insurance plan, customer...   \n",
       "4  Speaking about the sexual harassment allegatio...   \n",
       "5  Pakistani singer Rahat Fateh Ali Khan has deni...   \n",
       "6  India recorded their lowest ODI total in New Z...   \n",
       "7  Weeks after ex-CBI Director Alok Verma told th...   \n",
       "8  Andhra Pradesh CM N Chandrababu Naidu has said...   \n",
       "9  Congress candidate Shafia Zubair won the Ramga...   \n",
       "\n",
       "                                           headlines  \n",
       "0  upGrad learner switches to career in ML & Al w...  \n",
       "1  Delhi techie wins free food from Swiggy for on...  \n",
       "2  New Zealand end Rohit Sharma-led India's 12-ma...  \n",
       "3  Aegon life iTerm insurance plan helps customer...  \n",
       "4  Have known Hirani for yrs, what if MeToo claim...  \n",
       "5  Rahat Fateh Ali Khan denies getting notice for...  \n",
       "6  India get all out for 92, their lowest ODI tot...  \n",
       "7  Govt directs Alok Verma to join work 1 day bef...  \n",
       "8  Called PM Modi 'sir' 10 times to satisfy his e...  \n",
       "9  Cong wins Ramgarh bypoll in Rajasthan, takes t...  "
      ]
     },
     "execution_count": 14,
     "metadata": {},
     "output_type": "execute_result"
    }
   ],
   "source": [
    "data.head(10)"
   ]
  },
  {
   "cell_type": "markdown",
   "id": "91b1f6b3",
   "metadata": {},
   "source": [
    "우리는 text를 본문 headline룰 이미 요약된 데이터로 삼아서 모델을 학습할 수 있어요."
   ]
  },
  {
   "cell_type": "markdown",
   "id": "770d9045",
   "metadata": {},
   "source": [
    "##  2. 데이터 전처리하기"
   ]
  },
  {
   "cell_type": "markdown",
   "id": "9db93eb1",
   "metadata": {},
   "source": [
    "### 중복 샘플과 NULL 값이 존재하는 샘플 제거"
   ]
  },
  {
   "cell_type": "code",
   "execution_count": 18,
   "id": "4344e03e",
   "metadata": {},
   "outputs": [
    {
     "name": "stdout",
     "output_type": "stream",
     "text": [
      "text 열에서 중복을 배제한 유일한 샘플의 수 : 98360\n",
      "headlines 열에서 중복을 배제한 유일한 샘플의 수 : 98280\n"
     ]
    }
   ],
   "source": [
    "### 중복  샘플 제거\n",
    "\n",
    "print('text 열에서 중복을 배제한 유일한 샘플의 수 :', data['text'].nunique())\n",
    "print('headlines 열에서 중복을 배제한 유일한 샘플의 수 :', data['headlines'].nunique())"
   ]
  },
  {
   "cell_type": "code",
   "execution_count": 19,
   "id": "d9b5703f",
   "metadata": {},
   "outputs": [
    {
     "name": "stdout",
     "output_type": "stream",
     "text": [
      "headlines    0\n",
      "text         0\n",
      "dtype: int64\n"
     ]
    }
   ],
   "source": [
    "### null이 존재하는 샘플 값 제거\n",
    "print(data.isnull().sum())"
   ]
  },
  {
   "cell_type": "markdown",
   "id": "9ffc8bd8",
   "metadata": {},
   "source": [
    "headlines와 text에는 null 값이 존재하지 않는다. "
   ]
  },
  {
   "cell_type": "markdown",
   "id": "c48b2b9c",
   "metadata": {},
   "source": [
    "### 텍스트 정규화와 불용어 제거"
   ]
  },
  {
   "cell_type": "markdown",
   "id": "a3ebbeb8",
   "metadata": {},
   "source": [
    "기계의 연산량을 줄여주기 위해서 정규화 사전을 이용해서 텍스트 정규화를 해주겠다. "
   ]
  },
  {
   "cell_type": "code",
   "execution_count": 20,
   "id": "5412d38c",
   "metadata": {},
   "outputs": [
    {
     "name": "stdout",
     "output_type": "stream",
     "text": [
      "정규화 사전의 수:  120\n"
     ]
    }
   ],
   "source": [
    "contractions = {\"ain't\": \"is not\", \"aren't\": \"are not\",\"can't\": \"cannot\", \"'cause\": \"because\", \"could've\": \"could have\", \"couldn't\": \"could not\",\n",
    "                           \"didn't\": \"did not\",  \"doesn't\": \"does not\", \"don't\": \"do not\", \"hadn't\": \"had not\", \"hasn't\": \"has not\", \"haven't\": \"have not\",\n",
    "                           \"he'd\": \"he would\",\"he'll\": \"he will\", \"he's\": \"he is\", \"how'd\": \"how did\", \"how'd'y\": \"how do you\", \"how'll\": \"how will\", \"how's\": \"how is\",\n",
    "                           \"I'd\": \"I would\", \"I'd've\": \"I would have\", \"I'll\": \"I will\", \"I'll've\": \"I will have\",\"I'm\": \"I am\", \"I've\": \"I have\", \"i'd\": \"i would\",\n",
    "                           \"i'd've\": \"i would have\", \"i'll\": \"i will\",  \"i'll've\": \"i will have\",\"i'm\": \"i am\", \"i've\": \"i have\", \"isn't\": \"is not\", \"it'd\": \"it would\",\n",
    "                           \"it'd've\": \"it would have\", \"it'll\": \"it will\", \"it'll've\": \"it will have\",\"it's\": \"it is\", \"let's\": \"let us\", \"ma'am\": \"madam\",\n",
    "                           \"mayn't\": \"may not\", \"might've\": \"might have\",\"mightn't\": \"might not\",\"mightn't've\": \"might not have\", \"must've\": \"must have\",\n",
    "                           \"mustn't\": \"must not\", \"mustn't've\": \"must not have\", \"needn't\": \"need not\", \"needn't've\": \"need not have\",\"o'clock\": \"of the clock\",\n",
    "                           \"oughtn't\": \"ought not\", \"oughtn't've\": \"ought not have\", \"shan't\": \"shall not\", \"sha'n't\": \"shall not\", \"shan't've\": \"shall not have\",\n",
    "                           \"she'd\": \"she would\", \"she'd've\": \"she would have\", \"she'll\": \"she will\", \"she'll've\": \"she will have\", \"she's\": \"she is\",\n",
    "                           \"should've\": \"should have\", \"shouldn't\": \"should not\", \"shouldn't've\": \"should not have\", \"so've\": \"so have\",\"so's\": \"so as\",\n",
    "                           \"this's\": \"this is\",\"that'd\": \"that would\", \"that'd've\": \"that would have\", \"that's\": \"that is\", \"there'd\": \"there would\",\n",
    "                           \"there'd've\": \"there would have\", \"there's\": \"there is\", \"here's\": \"here is\",\"they'd\": \"they would\", \"they'd've\": \"they would have\",\n",
    "                           \"they'll\": \"they will\", \"they'll've\": \"they will have\", \"they're\": \"they are\", \"they've\": \"they have\", \"to've\": \"to have\",\n",
    "                           \"wasn't\": \"was not\", \"we'd\": \"we would\", \"we'd've\": \"we would have\", \"we'll\": \"we will\", \"we'll've\": \"we will have\", \"we're\": \"we are\",\n",
    "                           \"we've\": \"we have\", \"weren't\": \"were not\", \"what'll\": \"what will\", \"what'll've\": \"what will have\", \"what're\": \"what are\",\n",
    "                           \"what's\": \"what is\", \"what've\": \"what have\", \"when's\": \"when is\", \"when've\": \"when have\", \"where'd\": \"where did\", \"where's\": \"where is\",\n",
    "                           \"where've\": \"where have\", \"who'll\": \"who will\", \"who'll've\": \"who will have\", \"who's\": \"who is\", \"who've\": \"who have\",\n",
    "                           \"why's\": \"why is\", \"why've\": \"why have\", \"will've\": \"will have\", \"won't\": \"will not\", \"won't've\": \"will not have\",\n",
    "                           \"would've\": \"would have\", \"wouldn't\": \"would not\", \"wouldn't've\": \"would not have\", \"y'all\": \"you all\",\n",
    "                           \"y'all'd\": \"you all would\",\"y'all'd've\": \"you all would have\",\"y'all're\": \"you all are\",\"y'all've\": \"you all have\",\n",
    "                           \"you'd\": \"you would\", \"you'd've\": \"you would have\", \"you'll\": \"you will\", \"you'll've\": \"you will have\",\n",
    "                           \"you're\": \"you are\", \"you've\": \"you have\"}\n",
    "\n",
    "print(\"정규화 사전의 수: \", len(contractions))"
   ]
  },
  {
   "cell_type": "code",
   "execution_count": 21,
   "id": "4d87dfbd",
   "metadata": {
    "scrolled": true
   },
   "outputs": [
    {
     "name": "stdout",
     "output_type": "stream",
     "text": [
      "불용어 개수 : 179\n",
      "['i', 'me', 'my', 'myself', 'we', 'our', 'ours', 'ourselves', 'you', \"you're\", \"you've\", \"you'll\", \"you'd\", 'your', 'yours', 'yourself', 'yourselves', 'he', 'him', 'his', 'himself', 'she', \"she's\", 'her', 'hers', 'herself', 'it', \"it's\", 'its', 'itself', 'they', 'them', 'their', 'theirs', 'themselves', 'what', 'which', 'who', 'whom', 'this', 'that', \"that'll\", 'these', 'those', 'am', 'is', 'are', 'was', 'were', 'be', 'been', 'being', 'have', 'has', 'had', 'having', 'do', 'does', 'did', 'doing', 'a', 'an', 'the', 'and', 'but', 'if', 'or', 'because', 'as', 'until', 'while', 'of', 'at', 'by', 'for', 'with', 'about', 'against', 'between', 'into', 'through', 'during', 'before', 'after', 'above', 'below', 'to', 'from', 'up', 'down', 'in', 'out', 'on', 'off', 'over', 'under', 'again', 'further', 'then', 'once', 'here', 'there', 'when', 'where', 'why', 'how', 'all', 'any', 'both', 'each', 'few', 'more', 'most', 'other', 'some', 'such', 'no', 'nor', 'not', 'only', 'own', 'same', 'so', 'than', 'too', 'very', 's', 't', 'can', 'will', 'just', 'don', \"don't\", 'should', \"should've\", 'now', 'd', 'll', 'm', 'o', 're', 've', 'y', 'ain', 'aren', \"aren't\", 'couldn', \"couldn't\", 'didn', \"didn't\", 'doesn', \"doesn't\", 'hadn', \"hadn't\", 'hasn', \"hasn't\", 'haven', \"haven't\", 'isn', \"isn't\", 'ma', 'mightn', \"mightn't\", 'mustn', \"mustn't\", 'needn', \"needn't\", 'shan', \"shan't\", 'shouldn', \"shouldn't\", 'wasn', \"wasn't\", 'weren', \"weren't\", 'won', \"won't\", 'wouldn', \"wouldn't\"]\n"
     ]
    }
   ],
   "source": [
    "# 불용어 제거\n",
    "\n",
    "print('불용어 개수 :', len(stopwords.words('english') ))\n",
    "print(stopwords.words('english'))"
   ]
  },
  {
   "cell_type": "markdown",
   "id": "89ebbf11",
   "metadata": {},
   "source": [
    "정규화 과정과 불용어 제거 준비가 되었다. 데이터 전처리와 과정에서 함께 수행해 주겠다.\n",
    "\n",
    "상대적으로 짧은 headlines 요약 데이터에는 불용어 처리를 해주면 너무 짧아지기 때문에 불용어 처리를 해주지 않는 것이 좋아보인다. "
   ]
  },
  {
   "cell_type": "code",
   "execution_count": 24,
   "id": "b1e9e813",
   "metadata": {},
   "outputs": [
    {
     "name": "stdout",
     "output_type": "stream",
     "text": [
      "=3\n"
     ]
    }
   ],
   "source": [
    "# 데이터 전처리 함수\n",
    "def preprocess_sentence(sentence, remove_stopwords=True):\n",
    "    sentence = sentence.lower() # 텍스트 소문자화\n",
    "    sentence = BeautifulSoup(sentence, \"lxml\").text # <br />, <a href = ...> 등의 html 태그 제거\n",
    "    sentence = re.sub(r'\\([^)]*\\)', '', sentence) # 괄호로 닫힌 문자열 (...) 제거 Ex) my husband (and myself!) for => my husband for\n",
    "    sentence = re.sub('\"','', sentence) # 쌍따옴표 \" 제거\n",
    "    sentence = ' '.join([contractions[t] if t in contractions else t for t in sentence.split(\" \")]) # 약어 정규화\n",
    "    sentence = re.sub(r\"'s\\b\",\"\", sentence) # 소유격 제거. Ex) roland's -> roland\n",
    "    sentence = re.sub(\"[^a-zA-Z]\", \" \", sentence) # 영어 외 문자(숫자, 특수문자 등) 공백으로 변환\n",
    "    sentence = re.sub('[m]{2,}', 'mm', sentence) # m이 3개 이상이면 2개로 변경. Ex) ummmmmmm yeah -> umm yeah\n",
    "    \n",
    "    # 불용어 제거 (text)\n",
    "    if remove_stopwords:\n",
    "        tokens = ' '.join(word for word in sentence.split() if not word in stopwords.words('english') if len(word) > 1)\n",
    "    # 불용어 미제거 (headlines)\n",
    "    else:\n",
    "        tokens = ' '.join(word for word in sentence.split() if len(word) > 1)\n",
    "    return tokens\n",
    "print('=3')"
   ]
  },
  {
   "cell_type": "markdown",
   "id": "040ac7ee",
   "metadata": {},
   "source": [
    "전처리 전, 후의 결과를 확인하기 위해서 임의의 text와 headlines를 만들어 함수를 호출해본다."
   ]
  },
  {
   "cell_type": "code",
   "execution_count": 25,
   "id": "cf7b5f55",
   "metadata": {},
   "outputs": [
    {
     "name": "stdout",
     "output_type": "stream",
     "text": [
      "text:  everything bought great infact ordered twice third ordered wasfor mother father\n",
      "headlines: great way to start the day\n"
     ]
    }
   ],
   "source": [
    "temp_text = 'Everything I bought was great, infact I ordered twice and the third ordered was<br />for my mother and father.'\n",
    "temp_summary = 'Great way to start (or finish) the day!!!'\n",
    "\n",
    "print(\"text: \", preprocess_sentence(temp_text))\n",
    "print(\"headlines:\", preprocess_sentence(temp_summary, False))  # 불용어를 제거하지 않습니다."
   ]
  },
  {
   "cell_type": "markdown",
   "id": "d85873d0",
   "metadata": {},
   "source": [
    "함수가 잘 작동하는 것을 확인했다. "
   ]
  },
  {
   "cell_type": "markdown",
   "id": "7584906e",
   "metadata": {},
   "source": [
    "이제 함수가 잘 작동하는 것을 확인했으니, 훈련 데이터 전체에 대해서 전처리를 수행할 것이다. \n",
    "\n",
    "이때, text의 경우에는 불용어를 제거하고, headlines의 경우에는 불용어를 제거하지 않을 것이므로 따로 호출해서 진행해야 해요. 먼저 text를 전처리하고, 결과를 확인하기 위해서 상위 5개의 줄을 출력 할 것이다. "
   ]
  },
  {
   "cell_type": "code",
   "execution_count": 29,
   "id": "fe654003",
   "metadata": {},
   "outputs": [
    {
     "name": "stdout",
     "output_type": "stream",
     "text": [
      "text 전처리 후 결과:  ['saurav kant alumnus upgrad iiit pg program machine learning artificial intelligence sr systems engineer infosys almost years work experience program upgrad degree career support helped transition data scientist tech mahindra salary hike upgrad online power learning powered lakh careers', 'kunal shah credit card bill payment platform cred gave users chance win free food swiggy one year pranav kaushik delhi techie bagged reward spending cred coins users get one cred coin per rupee bill paid used avail rewards brands like ixigo bookmyshow ubereats cult fit', 'new zealand defeated india wickets fourth odi hamilton thursday win first match five match odi series india lost international match rohit sharma captaincy consecutive victories dating back march match witnessed india getting seventh lowest total odi cricket history', 'aegon life iterm insurance plan customers enjoy tax benefits premiums paid save taxes plan provides life cover age years also customers options insure critical illnesses disability accidental death benefit rider life cover age years', 'speaking sexual harassment allegations rajkumar hirani sonam kapoor said known hirani many years true metoo movement get derailed metoo movement always believe woman case need reserve judgment added hirani accused assistant worked sanju']\n"
     ]
    }
   ],
   "source": [
    "clean_text = []\n",
    "# 전체 Text 데이터에 대한 전처리 : 10분 이상 시간이 걸릴 수 있습니다. \n",
    "for s in data['text']:\n",
    "    clean_text.append(preprocess_sentence(s))\n",
    "\n",
    "# 전처리 후 출력\n",
    "print(\"text 전처리 후 결과: \", clean_text[:5])"
   ]
  },
  {
   "cell_type": "code",
   "execution_count": 31,
   "id": "bee0f3ac",
   "metadata": {},
   "outputs": [
    {
     "name": "stdout",
     "output_type": "stream",
     "text": [
      "headlines 전처리 후 결과:  ['upgrad learner switches to career in ml al with salary hike', 'delhi techie wins free food from swiggy for one year on cred', 'new zealand end rohit sharma led india match winning streak', 'aegon life iterm insurance plan helps customers save tax', 'have known hirani for yrs what if metoo claims are not true sonam']\n"
     ]
    }
   ],
   "source": [
    "clean_headlines = []\n",
    "# 전체 Summary 데이터에 대한 전처리 : 5분 이상 시간이 걸릴 수 있습니다. \n",
    "for s in data['headlines']:\n",
    "    clean_headlines.append(preprocess_sentence(s, False))\n",
    "\n",
    "print(\"headlines 전처리 후 결과: \", clean_headlines[:5])"
   ]
  },
  {
   "cell_type": "markdown",
   "id": "07dafef8",
   "metadata": {},
   "source": [
    "보다 쉽게 확인하기 위해 데이터들을 데이터프레임에 재저장 하겠다.<br>\n",
    "빈(empty) 값을 가진 샘플들이 있다면, 모두 Null 값을 가진 샘플로 대체할 것이다."
   ]
  },
  {
   "cell_type": "code",
   "execution_count": 32,
   "id": "b9fefea7",
   "metadata": {},
   "outputs": [],
   "source": [
    "data['text'] = clean_text\n",
    "data['headlines'] = clean_headlines\n",
    "\n",
    "# 빈 값을 Null 값으로 변환\n",
    "data.replace('', np.nan, inplace=True)"
   ]
  },
  {
   "cell_type": "markdown",
   "id": "41de6b14",
   "metadata": {},
   "source": [
    "이전과 같이 .isnull().sum()을 사용해서 Null 값이 생겼는지 해볼것이다. "
   ]
  },
  {
   "cell_type": "code",
   "execution_count": 33,
   "id": "3209574d",
   "metadata": {},
   "outputs": [
    {
     "data": {
      "text/plain": [
       "headlines    0\n",
       "text         0\n",
       "dtype: int64"
      ]
     },
     "execution_count": 33,
     "metadata": {},
     "output_type": "execute_result"
    }
   ],
   "source": [
    "data.isnull().sum()"
   ]
  },
  {
   "cell_type": "markdown",
   "id": "c15c017c",
   "metadata": {},
   "source": [
    "정제과정에서 null 값이 생기지 않은 것을 확인할 수 있다. "
   ]
  },
  {
   "cell_type": "markdown",
   "id": "2173e69e",
   "metadata": {},
   "source": [
    "### 훈련데이터와 테스트데이터 나누기"
   ]
  },
  {
   "cell_type": "markdown",
   "id": "fb95ada0",
   "metadata": {},
   "source": [
    "학습을 진행하기 위해서는 학습에 사용할 데이터의 크기를 결정하고, 문장의 시작과 끝을 표시해 줘야 한다."
   ]
  },
  {
   "cell_type": "markdown",
   "id": "32299034",
   "metadata": {},
   "source": [
    "### 샘플의 최대 길이 정하기\n"
   ]
  },
  {
   "cell_type": "markdown",
   "id": "29732c75",
   "metadata": {},
   "source": [
    "필요 없는 단어를 모두 솎아낸 데이터를 가지게 되었으니, 이제 훈련에 사용할 샘플의 최대 길이를 정해줄 차례이다.\n",
    "\n",
    "Text와 Summary의 최소, 최대, 평균 길이를 구하고 또한 길이 분포를 시각화할 것이다."
   ]
  },
  {
   "cell_type": "code",
   "execution_count": 36,
   "id": "fc6d6490",
   "metadata": {},
   "outputs": [
    {
     "name": "stdout",
     "output_type": "stream",
     "text": [
      "텍스트의 최소 길이 : 1\n",
      "텍스트의 최대 길이 : 60\n",
      "텍스트의 평균 길이 : 35.09983638377659\n",
      "요약의 최소 길이 : 1\n",
      "요약의 최대 길이 : 16\n",
      "요약의 평균 길이 : 9.299651426306644\n"
     ]
    },
    {
     "data": {
      "image/png": "[encoded data removed]",
      "text/plain": [
       "<Figure size 432x288 with 2 Axes>"
      ]
     },
     "metadata": {
      "needs_background": "light"
     },
     "output_type": "display_data"
    },
    {
     "data": {
      "image/png": "[encoded data removed]",
      "text/plain": [
       "<Figure size 432x288 with 1 Axes>"
      ]
     },
     "metadata": {
      "needs_background": "light"
     },
     "output_type": "display_data"
    },
    {
     "data": {
      "image/png": "[encoded data removed]",
      "text/plain": [
       "<Figure size 432x288 with 1 Axes>"
      ]
     },
     "metadata": {
      "needs_background": "light"
     },
     "output_type": "display_data"
    }
   ],
   "source": [
    "# 길이 분포 출력\n",
    "import matplotlib.pyplot as plt\n",
    "\n",
    "text_len = [len(s.split()) for s in data['text']]\n",
    "headlines_len = [len(s.split()) for s in data['headlines']]\n",
    "\n",
    "print('텍스트의 최소 길이 : {}'.format(np.min(text_len)))\n",
    "print('텍스트의 최대 길이 : {}'.format(np.max(text_len)))\n",
    "print('텍스트의 평균 길이 : {}'.format(np.mean(text_len)))\n",
    "print('요약의 최소 길이 : {}'.format(np.min(headlines_len)))\n",
    "print('요약의 최대 길이 : {}'.format(np.max(headlines_len)))\n",
    "print('요약의 평균 길이 : {}'.format(np.mean(headlines_len)))\n",
    "\n",
    "plt.subplot(1,2,1)\n",
    "plt.boxplot(text_len)\n",
    "plt.title('text')\n",
    "plt.subplot(1,2,2)\n",
    "plt.boxplot(headlines_len)\n",
    "plt.title('headlines')\n",
    "plt.tight_layout()\n",
    "plt.show()\n",
    "\n",
    "plt.title('text')\n",
    "plt.hist(text_len, bins = 40)\n",
    "plt.xlabel('length of samples')\n",
    "plt.ylabel('number of samples')\n",
    "plt.show()\n",
    "\n",
    "plt.title('headlines')\n",
    "plt.hist(headlines_len, bins = 40)\n",
    "plt.xlabel('length of samples')\n",
    "plt.ylabel('number of samples')\n",
    "plt.show()"
   ]
  },
  {
   "cell_type": "markdown",
   "id": "5520caa4",
   "metadata": {},
   "source": [
    "위의 그래프처럼, 많은 양의 데이터를 다룰 때는 데이터를 시각화하여 보는 것이 도움이 된다.. 위에서부터 차례대로 그래프는 각각 실제 텍스트와 요약의 길이 분포, 실제 텍스트 샘플 길이별 개수, 요약본 샘플 길이별 개수를 나타내고 있다.\n",
    "\n",
    "text의 경우 최소 길이가 1, 최대 길이가 60, 평균 길이는 35로 시각화된 그래프로 봤을 때는 대체적으로는 100 내외의 길이를 가진다는 것을 확인할 수 있었다.\n",
    "\n",
    "headlines의 경우 최소 길이가 1, 최대 길이가 16, 그리고 평균 길이가 9로 Text에 비해 상대적으로 길이가 매우 짧아요. 그래프로 봤을 때에도 대체적으로 10이하의 길이를 가지고 있다.\n",
    "\n",
    "이로부터 Text의 최대 길이와 headlines의 적절한 최대 길이를 임의로 정해볼 것이다.."
   ]
  },
  {
   "cell_type": "code",
   "execution_count": 40,
   "id": "0acf00da",
   "metadata": {},
   "outputs": [
    {
     "name": "stdout",
     "output_type": "stream",
     "text": [
      "=3\n"
     ]
    }
   ],
   "source": [
    "text_max_len = 40\n",
    "headlines_max_len = 12\n",
    "print('=3')"
   ]
  },
  {
   "cell_type": "markdown",
   "id": "7b4b49a1",
   "metadata": {},
   "source": [
    "각각 40과 12로 정했는데 이 길이를 선택했을 때, 얼마나 많은 샘플들을 자르지 않고 포함할 수 있는지 통계로 확인하는 편이 객관적으로 길이를 결정하는 데 도움이 될 것이다. 훈련 데이터와 샘플의 길이를 입력하면, 데이터의 몇 %가 해당하는지 계산하는 함수를 만들어서 좀 더 정확하게 판단해볼 것이다."
   ]
  },
  {
   "cell_type": "code",
   "execution_count": 38,
   "id": "bb619cbd",
   "metadata": {},
   "outputs": [],
   "source": [
    "def below_threshold_len(max_len, nested_list):\n",
    "  cnt = 0\n",
    "  for s in nested_list:\n",
    "    if(len(s.split()) <= max_len):\n",
    "        cnt = cnt + 1\n",
    "  print('전체 샘플 중 길이가 %s 이하인 샘플의 비율: %s'%(max_len, (cnt / len(nested_list))))"
   ]
  },
  {
   "cell_type": "markdown",
   "id": "0bacfdee",
   "metadata": {},
   "source": [
    "이렇게 만든 함수를 text와 headlines에 적용해 우리가 결정한 임의의 길이가 몇%의 샘플까지 포함하는지 볼 수 있을 것이다."
   ]
  },
  {
   "cell_type": "code",
   "execution_count": 41,
   "id": "03f29ec3",
   "metadata": {},
   "outputs": [
    {
     "name": "stdout",
     "output_type": "stream",
     "text": [
      "전체 샘플 중 길이가 40 이하인 샘플의 비율: 0.9238320748772878\n",
      "전체 샘플 중 길이가 12 이하인 샘플의 비율: 0.9880387394437048\n"
     ]
    }
   ],
   "source": [
    "below_threshold_len(text_max_len, data['text'])\n",
    "below_threshold_len(headlines_max_len,  data['headlines'])"
   ]
  },
  {
   "cell_type": "markdown",
   "id": "b95b6a75",
   "metadata": {},
   "source": [
    "각각 40과 12로 패딩을 하게 되면 해당 길이보다 긴 샘플들은 내용이 잘리게 된다.\n",
    "우리는 정해진 길이에 맞춰 자르는 것이 아니라, 정해진 길이보다 길면 제외하는 방법으로 데이터를 정제할 것이다. "
   ]
  },
  {
   "cell_type": "code",
   "execution_count": 43,
   "id": "c65e2173",
   "metadata": {},
   "outputs": [
    {
     "name": "stdout",
     "output_type": "stream",
     "text": [
      "전체 샘플수 : 89809\n"
     ]
    }
   ],
   "source": [
    "data = data[data['text'].apply(lambda x: len(x.split()) <= text_max_len)]\n",
    "data = data[data['headlines'].apply(lambda x: len(x.split()) <= headlines_max_len)]\n",
    "print('전체 샘플수 :', (len(data)))"
   ]
  },
  {
   "cell_type": "markdown",
   "id": "56acc2bc",
   "metadata": {},
   "source": [
    "### 시작 토큰과 종료 토큰 추가하기"
   ]
  },
  {
   "cell_type": "markdown",
   "id": "562d4e16",
   "metadata": {},
   "source": [
    "시작 토큰은 sostoken, 종료 토큰은 eostoken이라 임의로 명명하고 앞, 뒤로 추가할 것이다. "
   ]
  },
  {
   "cell_type": "markdown",
   "id": "ad3b92e5",
   "metadata": {},
   "source": [
    "디코더의 입력에 해당하면서 시작 토큰이 맨 앞에 있는 문장의 이름을 decoder_input, 디코더의 출력 또는 레이블에 해당되면서 종료 토큰이 맨 뒤에 붙는 문장의 이름을 decoder_target이라고 이름을 정했어요. 두 개의 문장 모두 headlines(summary) 열로부터 만들 것이다."
   ]
  },
  {
   "cell_type": "code",
   "execution_count": 45,
   "id": "db227b2e",
   "metadata": {},
   "outputs": [
    {
     "data": {
      "text/html": [
       "<div>\n",
       "<style scoped>\n",
       "    .dataframe tbody tr th:only-of-type {\n",
       "        vertical-align: middle;\n",
       "    }\n",
       "\n",
       "    .dataframe tbody tr th {\n",
       "        vertical-align: top;\n",
       "    }\n",
       "\n",
       "    .dataframe thead th {\n",
       "        text-align: right;\n",
       "    }\n",
       "</style>\n",
       "<table border=\"1\" class=\"dataframe\">\n",
       "  <thead>\n",
       "    <tr style=\"text-align: right;\">\n",
       "      <th></th>\n",
       "      <th>headlines</th>\n",
       "      <th>text</th>\n",
       "      <th>decoder_input</th>\n",
       "      <th>decoder_target</th>\n",
       "    </tr>\n",
       "  </thead>\n",
       "  <tbody>\n",
       "    <tr>\n",
       "      <th>0</th>\n",
       "      <td>upgrad learner switches to career in ml al wit...</td>\n",
       "      <td>saurav kant alumnus upgrad iiit pg program mac...</td>\n",
       "      <td>sostoken upgrad learner switches to career in ...</td>\n",
       "      <td>upgrad learner switches to career in ml al wit...</td>\n",
       "    </tr>\n",
       "    <tr>\n",
       "      <th>2</th>\n",
       "      <td>new zealand end rohit sharma led india match w...</td>\n",
       "      <td>new zealand defeated india wickets fourth odi ...</td>\n",
       "      <td>sostoken new zealand end rohit sharma led indi...</td>\n",
       "      <td>new zealand end rohit sharma led india match w...</td>\n",
       "    </tr>\n",
       "    <tr>\n",
       "      <th>3</th>\n",
       "      <td>aegon life iterm insurance plan helps customer...</td>\n",
       "      <td>aegon life iterm insurance plan customers enjo...</td>\n",
       "      <td>sostoken aegon life iterm insurance plan helps...</td>\n",
       "      <td>aegon life iterm insurance plan helps customer...</td>\n",
       "    </tr>\n",
       "    <tr>\n",
       "      <th>5</th>\n",
       "      <td>rahat fateh ali khan denies getting notice for...</td>\n",
       "      <td>pakistani singer rahat fateh ali khan denied r...</td>\n",
       "      <td>sostoken rahat fateh ali khan denies getting n...</td>\n",
       "      <td>rahat fateh ali khan denies getting notice for...</td>\n",
       "    </tr>\n",
       "    <tr>\n",
       "      <th>6</th>\n",
       "      <td>india get all out for their lowest odi total i...</td>\n",
       "      <td>india recorded lowest odi total new zealand ge...</td>\n",
       "      <td>sostoken india get all out for their lowest od...</td>\n",
       "      <td>india get all out for their lowest odi total i...</td>\n",
       "    </tr>\n",
       "  </tbody>\n",
       "</table>\n",
       "</div>"
      ],
      "text/plain": [
       "                                           headlines  \\\n",
       "0  upgrad learner switches to career in ml al wit...   \n",
       "2  new zealand end rohit sharma led india match w...   \n",
       "3  aegon life iterm insurance plan helps customer...   \n",
       "5  rahat fateh ali khan denies getting notice for...   \n",
       "6  india get all out for their lowest odi total i...   \n",
       "\n",
       "                                                text  \\\n",
       "0  saurav kant alumnus upgrad iiit pg program mac...   \n",
       "2  new zealand defeated india wickets fourth odi ...   \n",
       "3  aegon life iterm insurance plan customers enjo...   \n",
       "5  pakistani singer rahat fateh ali khan denied r...   \n",
       "6  india recorded lowest odi total new zealand ge...   \n",
       "\n",
       "                                       decoder_input  \\\n",
       "0  sostoken upgrad learner switches to career in ...   \n",
       "2  sostoken new zealand end rohit sharma led indi...   \n",
       "3  sostoken aegon life iterm insurance plan helps...   \n",
       "5  sostoken rahat fateh ali khan denies getting n...   \n",
       "6  sostoken india get all out for their lowest od...   \n",
       "\n",
       "                                      decoder_target  \n",
       "0  upgrad learner switches to career in ml al wit...  \n",
       "2  new zealand end rohit sharma led india match w...  \n",
       "3  aegon life iterm insurance plan helps customer...  \n",
       "5  rahat fateh ali khan denies getting notice for...  \n",
       "6  india get all out for their lowest odi total i...  "
      ]
     },
     "execution_count": 45,
     "metadata": {},
     "output_type": "execute_result"
    }
   ],
   "source": [
    "# 요약 데이터에는 시작 토큰과 종료 토큰을 추가한다.\n",
    "data['decoder_input'] = data['headlines'].apply(lambda x : 'sostoken '+ x)\n",
    "data['decoder_target'] = data['headlines'].apply(lambda x : x + ' eostoken')\n",
    "data.head()"
   ]
  },
  {
   "cell_type": "markdown",
   "id": "16f55c5c",
   "metadata": {},
   "source": [
    "앞뒤로 토큰이 잘 붙은 것을 확인할 수 있다. 1번은 아마 데이터를 자를때 잘려나간 것 같다.<br>\n",
    "디코더의 입력과 레이블을 각각 다시 Numpy 타입으로 저장해 줄 것이다 "
   ]
  },
  {
   "cell_type": "code",
   "execution_count": 47,
   "id": "25fae663",
   "metadata": {},
   "outputs": [
    {
     "name": "stdout",
     "output_type": "stream",
     "text": [
      "=3\n"
     ]
    }
   ],
   "source": [
    "encoder_input = np.array(data['text']) # 인코더의 입력\n",
    "decoder_input = np.array(data['decoder_input']) # 디코더의 입력\n",
    "decoder_target = np.array(data['decoder_target']) # 디코더의 레이블\n",
    "print('=3')"
   ]
  },
  {
   "cell_type": "markdown",
   "id": "d3ee9c55",
   "metadata": {},
   "source": [
    "이제 훈련 데이터와 테스트 데이터를 분리할 것이다.\n",
    "\n",
    "우선, encoder_input과 크기와 형태가 같은 순서가 섞인 정수 시퀀스를 만들어줄게요."
   ]
  },
  {
   "cell_type": "code",
   "execution_count": 48,
   "id": "d9ed5af8",
   "metadata": {},
   "outputs": [
    {
     "name": "stdout",
     "output_type": "stream",
     "text": [
      "[46170 45362 18395 ... 27922 47523 42540]\n"
     ]
    }
   ],
   "source": [
    "indices = np.arange(encoder_input.shape[0])\n",
    "np.random.shuffle(indices)\n",
    "print(indices)"
   ]
  },
  {
   "cell_type": "markdown",
   "id": "24e07e93",
   "metadata": {},
   "source": [
    "이 정수 시퀀스를 이용해 다시 데이터의 샘플 순서를 정의해 주면 잘 섞인 샘플이 되겠죠."
   ]
  },
  {
   "cell_type": "code",
   "execution_count": null,
   "id": "696a28b5",
   "metadata": {},
   "outputs": [],
   "source": [
    "encoder_input = encoder_input[indices]\n",
    "decoder_input = decoder_input[indices]\n",
    "decoder_target = decoder_target[indices]\n",
    "print('=3')"
   ]
  },
  {
   "cell_type": "markdown",
   "id": "a0e70652",
   "metadata": {},
   "source": [
    "이제 섞인 데이터를 8:2의 비율로 훈련 데이터와 테스트 데이터로 분리해 줄게요. 전체 데이터의 크기에서 0.2를 곱해서 테스트 데이터의 크기를 정의해 줄게요."
   ]
  },
  {
   "cell_type": "code",
   "execution_count": 50,
   "id": "515c8ede",
   "metadata": {},
   "outputs": [
    {
     "name": "stdout",
     "output_type": "stream",
     "text": [
      "테스트 데이터의 수 : 17961\n"
     ]
    }
   ],
   "source": [
    "n_of_val = int(len(encoder_input)*0.2)\n",
    "print('테스트 데이터의 수 :', n_of_val)"
   ]
  },
  {
   "cell_type": "code",
   "execution_count": 53,
   "id": "055292b1",
   "metadata": {},
   "outputs": [
    {
     "name": "stdout",
     "output_type": "stream",
     "text": [
      "훈련 데이터의 개수 : 71848\n",
      "훈련 레이블의 개수 : 71848\n",
      "테스트 데이터의 개수 : 17961\n",
      "테스트 레이블의 개수 : 17961\n"
     ]
    }
   ],
   "source": [
    "# -n_of_val을 기준으로 앞에부분은 train 뒷부분은 test로 나눴다.\n",
    "\n",
    "encoder_input_train = encoder_input[:-n_of_val]\n",
    "decoder_input_train = decoder_input[:-n_of_val]\n",
    "decoder_target_train = decoder_target[:-n_of_val]\n",
    "\n",
    "encoder_input_test = encoder_input[-n_of_val:]\n",
    "decoder_input_test = decoder_input[-n_of_val:]\n",
    "decoder_target_test = decoder_target[-n_of_val:]\n",
    "\n",
    "print('훈련 데이터의 개수 :', len(encoder_input_train))\n",
    "print('훈련 레이블의 개수 :', len(decoder_input_train))\n",
    "print('테스트 데이터의 개수 :', len(encoder_input_test))\n",
    "print('테스트 레이블의 개수 :', len(decoder_input_test))"
   ]
  },
  {
   "cell_type": "markdown",
   "id": "40175549",
   "metadata": {},
   "source": [
    "훈련 데이터와 테스트 데이터가 각각 71848개와 17961개로 잘 분리된 것을 볼 수 있었다."
   ]
  },
  {
   "cell_type": "markdown",
   "id": "9fa7b47c",
   "metadata": {},
   "source": [
    "### 단어 집합(vocabulary) 만들기 및 정수 인코딩"
   ]
  },
  {
   "cell_type": "markdown",
   "id": "36edb358",
   "metadata": {},
   "source": [
    "이제 기계가 텍스트를 숫자로 처리할 수 있도록 훈련 데이터와 테스트 데이터의 단어들을 모두 정수로 바꾸어 주어야 한다."
   ]
  },
  {
   "cell_type": "markdown",
   "id": "b7e0a3f2",
   "metadata": {},
   "source": [
    "이를 위해서는 각 단어에 고유한 정수를 맵핑하는 작업이 필요하다. 이 과정을 단어 집합(vocabulary) 을 만든다고 표현하는 훈련 데이터에 대해서 단어 집합을 만들어볼 것이다. "
   ]
  },
  {
   "cell_type": "code",
   "execution_count": 55,
   "id": "683cc6ee",
   "metadata": {},
   "outputs": [
    {
     "name": "stdout",
     "output_type": "stream",
     "text": [
      "=3\n"
     ]
    }
   ],
   "source": [
    "src_tokenizer = Tokenizer() # 토크나이저 정의\n",
    "src_tokenizer.fit_on_texts(encoder_input_train) # 입력된 데이터로부터 단어 집합 생성\n",
    "print('=3')"
   ]
  },
  {
   "cell_type": "markdown",
   "id": "8cd52df4",
   "metadata": {},
   "source": [
    "이제 단어 집합이 생성되는 동시에 각 단어에 고유한 정수가 부여되어 있는데. 현재 생성된 단어 집합은 src_tokenizer.word_index에 저장되어 있어요. 그런데 우리는 이렇게 만든 단어 집합에 있는 모든 단어를 사용하는 것이 아니라, 빈도수가 낮은 단어들은 훈련 데이터에서 제외하고 진행하려고 한다."
   ]
  },
  {
   "cell_type": "markdown",
   "id": "2cc83b9b",
   "metadata": {},
   "source": [
    "등장 빈도수가 7회 미만인 단어들이 이 데이터에서 얼만큼의 비중을 차지하는지 확인할 것이다.\n",
    "\n",
    "src_tokenizer.word_counts.items()에는 단어와 각 단어의 등장 빈도수가 저장돼 있는데, 이를 통해서 통계적인 정보를 얻을 수 있다.\n",
    "\n"
   ]
  },
  {
   "cell_type": "code",
   "execution_count": 56,
   "id": "6b3f9a06",
   "metadata": {},
   "outputs": [
    {
     "name": "stdout",
     "output_type": "stream",
     "text": [
      "단어 집합(vocabulary)의 크기 : 64149\n",
      "등장 빈도가 6번 이하인 희귀 단어의 수: 43429\n",
      "단어 집합에서 희귀 단어를 제외시킬 경우의 단어 집합의 크기 20720\n",
      "단어 집합에서 희귀 단어의 비율: 67.70019797658577\n",
      "전체 등장 빈도에서 희귀 단어 등장 빈도 비율: 3.5837981066042226\n"
     ]
    }
   ],
   "source": [
    "threshold = 7\n",
    "total_cnt = len(src_tokenizer.word_index) # 단어의 수\n",
    "rare_cnt = 0 # 등장 빈도수가 threshold보다 작은 단어의 개수를 카운트\n",
    "total_freq = 0 # 훈련 데이터의 전체 단어 빈도수 총 합\n",
    "rare_freq = 0 # 등장 빈도수가 threshold보다 작은 단어의 등장 빈도수의 총 합\n",
    "\n",
    "# 단어와 빈도수의 쌍(pair)을 key와 value로 받는다.\n",
    "for key, value in src_tokenizer.word_counts.items():\n",
    "    total_freq = total_freq + value\n",
    "\n",
    "    # 단어의 등장 빈도수가 threshold보다 작으면\n",
    "    if(value < threshold):\n",
    "        rare_cnt = rare_cnt + 1\n",
    "        rare_freq = rare_freq + value\n",
    "\n",
    "print('단어 집합(vocabulary)의 크기 :', total_cnt)\n",
    "print('등장 빈도가 %s번 이하인 희귀 단어의 수: %s'%(threshold - 1, rare_cnt))\n",
    "print('단어 집합에서 희귀 단어를 제외시킬 경우의 단어 집합의 크기 %s'%(total_cnt - rare_cnt))\n",
    "print(\"단어 집합에서 희귀 단어의 비율:\", (rare_cnt / total_cnt)*100)\n",
    "print(\"전체 등장 빈도에서 희귀 단어 등장 빈도 비율:\", (rare_freq / total_freq)*100)"
   ]
  },
  {
   "cell_type": "markdown",
   "id": "1b0f12ae",
   "metadata": {},
   "source": [
    "encoder_input_train에는 6만여 개의 단어가 있네요. 그 아래의 통계 정보들을 해석해보면 등장 빈도가 threshold 값인 7회 미만, 즉 6회 이하인 단어들은 단어 집합에서 무려 67% 이상을 차지하네요. 하지만 실제로 훈련 데이터에서 등장 빈도로 차지하는 비중은 상대적으로 적은 수치인 3.58%밖에 되지 않는다."
   ]
  },
  {
   "cell_type": "markdown",
   "id": "b7b0ff82",
   "metadata": {},
   "source": [
    "그래서 등장 빈도가 6회 이하인 단어들은 정수 인코딩 과정에서 빼고, 훈련 데이터에서 제거하고자 합니다. 위에서 이를 제외한 단어 집합의 크기를 20000여 개로 계산했는데, 이와 비슷한 값으로 어림잡아 단어 집합의 크기를 20,000으로 제한해볼 것이다. 토크나이저를 정의할 때 num_words의 값을 정해주면, 단어 집합의 크기를 제한할 수 있다."
   ]
  },
  {
   "cell_type": "code",
   "execution_count": 57,
   "id": "9339840b",
   "metadata": {},
   "outputs": [
    {
     "name": "stdout",
     "output_type": "stream",
     "text": [
      "=3\n"
     ]
    }
   ],
   "source": [
    "src_vocab = 20000\n",
    "src_tokenizer = Tokenizer(num_words=src_vocab) # 단어 집합의 크기를 20,000으로 제한\n",
    "src_tokenizer.fit_on_texts(encoder_input_train) # 단어 집합 재생성\n",
    "print('=3')"
   ]
  },
  {
   "cell_type": "markdown",
   "id": "eea079d9",
   "metadata": {},
   "source": [
    "texts_to_sequences()는 생성된 단어 집합에 기반하여 입력으로 주어진 텍스트 데이터의 단어들을 모두 정수로 변환하는 정수 인코딩을 수행한다. 현재 단어 집합의 크기를 20,000으로 제한했으니까 이제 20,000이 넘는 숫자들은 정수 인코딩 후에는 데이터에 존재하지 않는다.\n",
    "\n"
   ]
  },
  {
   "cell_type": "code",
   "execution_count": 58,
   "id": "5e6ae04c",
   "metadata": {},
   "outputs": [
    {
     "name": "stdout",
     "output_type": "stream",
     "text": [
      "[[6460, 8983, 9135, 11303, 9136, 1720, 1791, 2086, 1474, 663, 11304, 1795, 2348, 1338, 849, 22, 137, 1187, 1720, 9135, 2571, 620, 351, 998, 5006, 138, 3553, 2747, 1783, 1478, 2188, 9135, 211, 329, 2086, 2418, 59, 8036], [27, 745, 897, 4, 708, 643, 299, 5203, 70, 241, 10, 86, 91, 86, 299, 168, 4, 254, 117, 86, 841, 249, 5265, 1339, 6897, 1354, 164, 384, 86, 1654, 4, 466, 2619, 2642, 296, 299, 115, 495], [15586, 139, 16325, 1771, 709, 769, 3742, 320, 2276, 14903, 527, 1492, 2512, 709, 2111, 139, 1041, 430, 22, 6, 769, 3416, 2045, 10192, 7411, 3950, 167, 2216, 7207, 139, 1041, 430, 22]]\n"
     ]
    }
   ],
   "source": [
    "# 텍스트 시퀀스를 정수 시퀀스로 변환\n",
    "encoder_input_train = src_tokenizer.texts_to_sequences(encoder_input_train) \n",
    "encoder_input_test = src_tokenizer.texts_to_sequences(encoder_input_test)\n",
    "\n",
    "# 잘 진행되었는지 샘플 출력\n",
    "print(encoder_input_train[:3])"
   ]
  },
  {
   "cell_type": "markdown",
   "id": "57f008d9",
   "metadata": {},
   "source": [
    "이제 더 이상 텍스트 데이터가 아니라 정수가 나오는 것을 확인 할 수 있다. \n",
    "\n",
    "headlines 데이터에 대해서도 동일한 작업을 수행할게요. 케라스의 토크나이저를 사용하여 decoder_input_train을 입력으로 전체 단어 집합과 각 단어에 대한 빈도수를 계산할 것이다.\n"
   ]
  },
  {
   "cell_type": "code",
   "execution_count": 59,
   "id": "909ef141",
   "metadata": {},
   "outputs": [
    {
     "name": "stdout",
     "output_type": "stream",
     "text": [
      "=3\n"
     ]
    }
   ],
   "source": [
    "tar_tokenizer = Tokenizer() # 토크나이저 정의\n",
    "tar_tokenizer.fit_on_texts(decoder_input_train) # 입력된 데이터로부터 단어 집합 생성\n",
    "print('=3')"
   ]
  },
  {
   "cell_type": "markdown",
   "id": "fbd2a158",
   "metadata": {},
   "source": [
    "이제 단어 집합이 생성되는 동시에 각 단어에 고유한 정수가 부여되었다. 이는 tar_tokenizer.word_index에 저장된다. tar_tokenizer.word_counts.items()에는 단어와 각 단어의 등장 빈도수가 저장돼 있는데, 이를 통해서 통계적인 정보를 얻어서, 등장 빈도수가 6회 미만인 단어들이 이 데이터에서 얼만큼의 비중을 차지하는지 확인해볼 것이다."
   ]
  },
  {
   "cell_type": "code",
   "execution_count": 62,
   "id": "32aa396b",
   "metadata": {},
   "outputs": [
    {
     "name": "stdout",
     "output_type": "stream",
     "text": [
      "단어 집합(vocabulary)의 크기 : 28423\n",
      "등장 빈도가 4번 이하인 희귀 단어의 수: 17450\n",
      "단어 집합에서 희귀 단어를 제외시킬 경우의 단어 집합의 크기 10973\n",
      "단어 집합에서 희귀 단어의 비율: 61.39394152622876\n",
      "전체 등장 빈도에서 희귀 단어 등장 빈도 비율: 4.068323651989894\n"
     ]
    }
   ],
   "source": [
    "threshold = 5\n",
    "total_cnt = len(tar_tokenizer.word_index) # 단어의 수\n",
    "rare_cnt = 0 # 등장 빈도수가 threshold보다 작은 단어의 개수를 카운트\n",
    "total_freq = 0 # 훈련 데이터의 전체 단어 빈도수 총 합\n",
    "rare_freq = 0 # 등장 빈도수가 threshold보다 작은 단어의 등장 빈도수의 총 합\n",
    "\n",
    "# 단어와 빈도수의 쌍(pair)을 key와 value로 받는다.\n",
    "for key, value in tar_tokenizer.word_counts.items():\n",
    "    total_freq = total_freq + value\n",
    "\n",
    "    # 단어의 등장 빈도수가 threshold보다 작으면\n",
    "    if(value < threshold):\n",
    "        rare_cnt = rare_cnt + 1\n",
    "        rare_freq = rare_freq + value\n",
    "\n",
    "print('단어 집합(vocabulary)의 크기 :', total_cnt)\n",
    "print('등장 빈도가 %s번 이하인 희귀 단어의 수: %s'%(threshold - 1, rare_cnt))\n",
    "print('단어 집합에서 희귀 단어를 제외시킬 경우의 단어 집합의 크기 %s'%(total_cnt - rare_cnt))\n",
    "print(\"단어 집합에서 희귀 단어의 비율:\", (rare_cnt / total_cnt)*100)\n",
    "print(\"전체 등장 빈도에서 희귀 단어 등장 빈도 비율:\", (rare_freq / total_freq)*100)"
   ]
  },
  {
   "cell_type": "markdown",
   "id": "e7a21dfb",
   "metadata": {},
   "source": [
    "등장 빈도가 4회 이하인 단어들은 단어 집합에서 약 61%를 차지하고 있다. 하지만 실제로 훈련 데이터에서 등장 빈도로 차지하는 비중은 상대적으로 매우 적은 수치인 4.07%밖에 되지 않으니 아까 했던 것과 동일하게 이 단어들은 모두 제거할 것이다. 어림잡아 10,000을 단어 집합의 크기로 제한할 것이다."
   ]
  },
  {
   "cell_type": "code",
   "execution_count": 63,
   "id": "ff995e28",
   "metadata": {},
   "outputs": [
    {
     "name": "stdout",
     "output_type": "stream",
     "text": [
      "input\n",
      "input  [[1, 5824, 8311, 9008, 3, 731, 4, 2141, 8, 1062, 1099], [1, 43, 1208, 337, 457, 574, 585, 9, 161, 654, 3105], [1, 7232, 190, 7233, 1947, 491, 1031, 1740, 823, 347], [1, 8312, 9868, 721, 167, 321, 629, 455, 5, 2020, 1827], [1, 9, 72, 99, 53, 5, 211, 2576, 261, 1573, 4, 43, 1208]]\n",
      "target\n",
      "decoder  [[5824, 8311, 9008, 3, 731, 4, 2141, 8, 1062, 1099, 2], [43, 1208, 337, 457, 574, 585, 9, 161, 654, 3105, 2], [7232, 190, 7233, 1947, 491, 1031, 1740, 823, 347, 2], [8312, 9868, 721, 167, 321, 629, 455, 5, 2020, 1827, 2], [9, 72, 99, 53, 5, 211, 2576, 261, 1573, 4, 43, 1208, 2]]\n"
     ]
    }
   ],
   "source": [
    "tar_vocab = 10000\n",
    "tar_tokenizer = Tokenizer(num_words=tar_vocab) \n",
    "tar_tokenizer.fit_on_texts(decoder_input_train)\n",
    "tar_tokenizer.fit_on_texts(decoder_target_train)\n",
    "\n",
    "# 텍스트 시퀀스를 정수 시퀀스로 변환\n",
    "decoder_input_train = tar_tokenizer.texts_to_sequences(decoder_input_train) \n",
    "decoder_target_train = tar_tokenizer.texts_to_sequences(decoder_target_train)\n",
    "decoder_input_test = tar_tokenizer.texts_to_sequences(decoder_input_test)\n",
    "decoder_target_test = tar_tokenizer.texts_to_sequences(decoder_target_test)\n",
    "\n",
    "# 잘 변환되었는지 확인\n",
    "print('input')\n",
    "print('input ',decoder_input_train[:5])\n",
    "print('target')\n",
    "print('decoder ',decoder_target_train[:5])"
   ]
  },
  {
   "cell_type": "markdown",
   "id": "bb0300ef",
   "metadata": {},
   "source": [
    "정상적으로 정수 인코딩 작업이 끝났어요. 현재 decoder_input_train과 decoder_target_train에는 더 이상 숫자 10,000이 넘는 숫자들은 존재하지 않는다. 그런데 다음 작업인 패딩 하기로 넘어가기 전에 한 가지 점검해야 할 것이 있다."
   ]
  },
  {
   "cell_type": "markdown",
   "id": "3299aa8e",
   "metadata": {},
   "source": [
    "전체 데이터에서 빈도수가 낮은 단어가 삭제되었다는 것은 빈도수가 낮은 단어만으로 구성되었던 샘플들은 이제 빈(empty) 샘플이 되었을 가능성이 있다. 이 현상은 길이가 상대적으로 길었던 원문(Text)의 경우에는 문제가 별로 없겠지만, 애초에 평균 길이가 9밖에 되지 않았던 요약문(headline)의 경우에는 이 현상이 굉장히 두드러졌을 가능성이 높다."
   ]
  },
  {
   "cell_type": "markdown",
   "id": "6381d454",
   "metadata": {},
   "source": [
    "요약문에서 길이가 0이 된 샘플들의 인덱스를 받아와볼 것이다.. 여기서 주의할 점은 요약문인 decoder_input에는 sostoken 또는 decoder_target에는 eostoken이 추가된 상태이고, 이 두 토큰은 모든 샘플에서 등장하므로 빈도수가 샘플 수와 동일하게 매우 높으므로 단어 집합 제한에도 삭제되지 않다는 것이다. 그래서 이제 길이가 0이 된 요약문의 실제 길이는 1로 나올 텐데. 길이 0이 된 decoder_input에는 sostoken, decoder_target에는 eostoken만 남아 있을 것이기 때문이다."
   ]
  },
  {
   "cell_type": "markdown",
   "id": "9825e57b",
   "metadata": {},
   "source": [
    "훈련 데이터와 테스트 데이터에 대해서 요약문의 길이가 1인 경우의 인덱스를 각각 drop_train과 drop_test에 라는 변수에 저장해볼게요. 이 샘플들은 모두 삭제할 것이다.\n",
    "\n"
   ]
  },
  {
   "cell_type": "code",
   "execution_count": 65,
   "id": "8d40b981",
   "metadata": {},
   "outputs": [
    {
     "name": "stdout",
     "output_type": "stream",
     "text": [
      "삭제할 훈련 데이터의 개수 : 0\n",
      "삭제할 테스트 데이터의 개수 : 0\n",
      "훈련 데이터의 개수 : 71848\n",
      "훈련 레이블의 개수 : 71848\n",
      "테스트 데이터의 개수 : 17961\n",
      "테스트 레이블의 개수 : 17961\n"
     ]
    }
   ],
   "source": [
    "drop_train = [index for index, sentence in enumerate(decoder_input_train) if len(sentence) == 1]\n",
    "drop_test = [index for index, sentence in enumerate(decoder_input_test) if len(sentence) == 1]\n",
    "\n",
    "print('삭제할 훈련 데이터의 개수 :', len(drop_train))\n",
    "print('삭제할 테스트 데이터의 개수 :', len(drop_test))\n",
    "\n",
    "encoder_input_train = [sentence for index, sentence in enumerate(encoder_input_train) if index not in drop_train]\n",
    "decoder_input_train = [sentence for index, sentence in enumerate(decoder_input_train) if index not in drop_train]\n",
    "decoder_target_train = [sentence for index, sentence in enumerate(decoder_target_train) if index not in drop_train]\n",
    "\n",
    "encoder_input_test = [sentence for index, sentence in enumerate(encoder_input_test) if index not in drop_test]\n",
    "decoder_input_test = [sentence for index, sentence in enumerate(decoder_input_test) if index not in drop_test]\n",
    "decoder_target_test = [sentence for index, sentence in enumerate(decoder_target_test) if index not in drop_test]\n",
    "\n",
    "print('훈련 데이터의 개수 :', len(encoder_input_train))\n",
    "print('훈련 레이블의 개수 :', len(decoder_input_train))\n",
    "print('테스트 데이터의 개수 :', len(encoder_input_test))\n",
    "print('테스트 레이블의 개수 :', len(decoder_input_test))"
   ]
  },
  {
   "cell_type": "markdown",
   "id": "bd828a56",
   "metadata": {},
   "source": [
    "삭제할 훈련 데이터와 삭제할 테스트 데이터 모두 없는 걸로 나온다. "
   ]
  },
  {
   "cell_type": "markdown",
   "id": "0a55d64f",
   "metadata": {},
   "source": [
    "### 패딩하기"
   ]
  },
  {
   "cell_type": "markdown",
   "id": "eba96b95",
   "metadata": {},
   "source": [
    "텍스트 시퀀스를 정수 시퀀스로 변환했다면, 이제 서로 다른 길이의 샘플들을 병렬 처리하기 위해 같은 길이로 맞춰주는 패딩 작업을 해주어야 해야 한다. 아까 정해두었던 최대 길이로 패딩 해 줄 것이다. 최대 길이보다 짧은 데이터들은 뒤의 공간에 숫자 0을 넣어 최대 길이로 길이를 맞춰줄게요."
   ]
  },
  {
   "attachments": {
    "image.png": {
     "image/png": "[encoded data removed]"
    }
   },
   "cell_type": "markdown",
   "id": "075ffe50",
   "metadata": {},
   "source": [
    "![image.png](attachment:image.png)"
   ]
  },
  {
   "cell_type": "code",
   "execution_count": 68,
   "id": "45289b8c",
   "metadata": {},
   "outputs": [
    {
     "name": "stdout",
     "output_type": "stream",
     "text": [
      "=3\n"
     ]
    }
   ],
   "source": [
    "encoder_input_train = pad_sequences(encoder_input_train, maxlen=text_max_len, padding='post')\n",
    "encoder_input_test = pad_sequences(encoder_input_test, maxlen=text_max_len, padding='post')\n",
    "decoder_input_train = pad_sequences(decoder_input_train, maxlen=headlines_max_len, padding='post')\n",
    "decoder_target_train = pad_sequences(decoder_target_train, maxlen=headlines_max_len, padding='post')\n",
    "decoder_input_test = pad_sequences(decoder_input_test, maxlen=headlines_max_len, padding='post')\n",
    "decoder_target_test = pad_sequences(decoder_target_test, maxlen=headlines_max_len, padding='post')\n",
    "print('=3')"
   ]
  },
  {
   "cell_type": "markdown",
   "id": "0dce905a",
   "metadata": {},
   "source": [
    "이제 학습에 필요한 전처리 과정이 모두 끝났다."
   ]
  },
  {
   "cell_type": "markdown",
   "id": "a9ef40ca",
   "metadata": {},
   "source": [
    "## 3. 어텐션 메커니즘 사용하기 (추상적 요약)"
   ]
  },
  {
   "cell_type": "markdown",
   "id": "0a4d4a63",
   "metadata": {},
   "source": [
    "### 모델 설계하기"
   ]
  },
  {
   "cell_type": "code",
   "execution_count": 71,
   "id": "d900678a",
   "metadata": {},
   "outputs": [],
   "source": [
    "from tensorflow.keras.layers import Input, LSTM, Embedding, Dense, Concatenate, TimeDistributed\n",
    "from tensorflow.keras.models import Model\n",
    "from tensorflow.keras.callbacks import EarlyStopping, ModelCheckpoint\n",
    "\n",
    "\n",
    "# 인코더 설계 시작\n",
    "embedding_dim = 128\n",
    "hidden_size = 256\n",
    "\n",
    "# 인코더\n",
    "encoder_inputs = Input(shape=(text_max_len,))\n",
    "\n",
    "# 인코더의 임베딩 층\n",
    "enc_emb = Embedding(src_vocab, embedding_dim)(encoder_inputs)\n",
    "\n",
    "# 인코더의 LSTM 1\n",
    "# encoder_lstm1 = LSTM(hidden_size, return_sequences=True, return_state=True ,dropout = 0.4, recurrent_dropout = 0.4)\n",
    "encoder_lstm1 = LSTM(hidden_size, return_sequences=True, return_state=True ,dropout = 0.4)\n",
    "encoder_output1, state_h1, state_c1 = encoder_lstm1(enc_emb)\n",
    "\n",
    "# 인코더의 LSTM 2\n",
    "# encoder_lstm2 = LSTM(hidden_size, return_sequences=True, return_state=True, dropout=0.4, recurrent_dropout=0.4)\n",
    "encoder_lstm2 = LSTM(hidden_size, return_sequences=True, return_state=True, dropout=0.4)\n",
    "encoder_output2, state_h2, state_c2 = encoder_lstm2(encoder_output1)\n",
    "\n",
    "# 인코더의 LSTM 3\n",
    "# encoder_lstm3 = LSTM(hidden_size, return_state=True, return_sequences=True, dropout=0.4, recurrent_dropout=0.4)\n",
    "encoder_lstm3 = LSTM(hidden_size, return_state=True, return_sequences=True, dropout=0.4)\n",
    "encoder_outputs, state_h, state_c= encoder_lstm3(encoder_output2)"
   ]
  },
  {
   "cell_type": "markdown",
   "id": "9e7ef48b",
   "metadata": {},
   "source": [
    "### 디코더를 설계"
   ]
  },
  {
   "cell_type": "code",
   "execution_count": 72,
   "id": "a1da5c31",
   "metadata": {},
   "outputs": [],
   "source": [
    "# 디코더 설계\n",
    "decoder_inputs = Input(shape=(None,))\n",
    "\n",
    "# 디코더의 임베딩 층\n",
    "dec_emb_layer = Embedding(tar_vocab, embedding_dim)\n",
    "dec_emb = dec_emb_layer(decoder_inputs)\n",
    "\n",
    "# 디코더의 LSTM\n",
    "# decoder_lstm = LSTM(hidden_size, return_sequences=True, return_state=True, dropout=0.4, recurrent_dropout=0.2)\n",
    "decoder_lstm = LSTM(hidden_size, return_sequences=True, return_state=True, dropout=0.4)\n",
    "decoder_outputs, _, _ = decoder_lstm(dec_emb, initial_state=[state_h, state_c])"
   ]
  },
  {
   "cell_type": "markdown",
   "id": "224e7cca",
   "metadata": {},
   "source": [
    "디코더의 임베딩 층과 LSTM을 설계하는 것은 인코더와 거의 동일하다. 하지만 LSTM의 입력을 정의할 때, initial_state의 인자값으로 인코더의 hidden state와 cell state의 값을 넣어줘야 한다.\n",
    "\n",
    "디코더의 출력층을 설계해보겠다."
   ]
  },
  {
   "cell_type": "code",
   "execution_count": 73,
   "id": "0c1362c8",
   "metadata": {},
   "outputs": [
    {
     "name": "stdout",
     "output_type": "stream",
     "text": [
      "Model: \"model\"\n",
      "__________________________________________________________________________________________________\n",
      "Layer (type)                    Output Shape         Param #     Connected to                     \n",
      "==================================================================================================\n",
      "input_1 (InputLayer)            [(None, 40)]         0                                            \n",
      "__________________________________________________________________________________________________\n",
      "embedding (Embedding)           (None, 40, 128)      2560000     input_1[0][0]                    \n",
      "__________________________________________________________________________________________________\n",
      "lstm (LSTM)                     [(None, 40, 256), (N 394240      embedding[0][0]                  \n",
      "__________________________________________________________________________________________________\n",
      "input_2 (InputLayer)            [(None, None)]       0                                            \n",
      "__________________________________________________________________________________________________\n",
      "lstm_1 (LSTM)                   [(None, 40, 256), (N 525312      lstm[0][0]                       \n",
      "__________________________________________________________________________________________________\n",
      "embedding_1 (Embedding)         (None, None, 128)    1280000     input_2[0][0]                    \n",
      "__________________________________________________________________________________________________\n",
      "lstm_2 (LSTM)                   [(None, 40, 256), (N 525312      lstm_1[0][0]                     \n",
      "__________________________________________________________________________________________________\n",
      "lstm_3 (LSTM)                   [(None, None, 256),  394240      embedding_1[0][0]                \n",
      "                                                                 lstm_2[0][1]                     \n",
      "                                                                 lstm_2[0][2]                     \n",
      "__________________________________________________________________________________________________\n",
      "dense (Dense)                   (None, None, 10000)  2570000     lstm_3[0][0]                     \n",
      "==================================================================================================\n",
      "Total params: 8,249,104\n",
      "Trainable params: 8,249,104\n",
      "Non-trainable params: 0\n",
      "__________________________________________________________________________________________________\n"
     ]
    }
   ],
   "source": [
    "# 디코더의 출력층\n",
    "decoder_softmax_layer = Dense(tar_vocab, activation='softmax')\n",
    "decoder_softmax_outputs = decoder_softmax_layer(decoder_outputs) \n",
    "\n",
    "# 모델 정의\n",
    "model = Model([encoder_inputs, decoder_inputs], decoder_softmax_outputs)\n",
    "model.summary()"
   ]
  },
  {
   "cell_type": "markdown",
   "id": "c6975245",
   "metadata": {},
   "source": [
    "디코더의 출력층에서는 Summary의 단어장인 tar_vocab의 수많은 선택지 중 하나의 단어를 선택하는 다중 클래스 분류 문제를 풀어야 한다. 그렇기 때문에 Dense의 인자로 tar_vocab을 주고, 활성화 함수로 소프트맥스 함수를 사용하고 있다."
   ]
  },
  {
   "cell_type": "markdown",
   "id": "ec6ae1d5",
   "metadata": {},
   "source": [
    "지금까지 설계한 것은 인코더의 hidden state와 cell state를 디코더의 초기 state로 사용하는 가장 기본적인 seq2seq이다. 그런데 디코더의 출력층을 설계를 살짝 바꿔서 성능을 높이기 위해서 어텐션 메커니즘을 사용할 것이다. "
   ]
  },
  {
   "cell_type": "markdown",
   "id": "5d99c0a5",
   "metadata": {},
   "source": [
    "### 어텐션 메커니즘"
   ]
  },
  {
   "cell_type": "markdown",
   "id": "4540d8ea",
   "metadata": {},
   "source": [
    "사용하는 어텐션 함수는 Bahdanau 스타일의 어텐션입니다."
   ]
  },
  {
   "cell_type": "markdown",
   "id": "17c7c920",
   "metadata": {},
   "source": [
    "아래와 같이 어텐션 층을 만들고, 위에서 설계한 디코더의 출력층을 수정해 봅시다."
   ]
  },
  {
   "cell_type": "code",
   "execution_count": 75,
   "id": "a3b9c7c6",
   "metadata": {},
   "outputs": [
    {
     "name": "stdout",
     "output_type": "stream",
     "text": [
      "Model: \"model_1\"\n",
      "__________________________________________________________________________________________________\n",
      "Layer (type)                    Output Shape         Param #     Connected to                     \n",
      "==================================================================================================\n",
      "input_1 (InputLayer)            [(None, 40)]         0                                            \n",
      "__________________________________________________________________________________________________\n",
      "embedding (Embedding)           (None, 40, 128)      2560000     input_1[0][0]                    \n",
      "__________________________________________________________________________________________________\n",
      "lstm (LSTM)                     [(None, 40, 256), (N 394240      embedding[0][0]                  \n",
      "__________________________________________________________________________________________________\n",
      "input_2 (InputLayer)            [(None, None)]       0                                            \n",
      "__________________________________________________________________________________________________\n",
      "lstm_1 (LSTM)                   [(None, 40, 256), (N 525312      lstm[0][0]                       \n",
      "__________________________________________________________________________________________________\n",
      "embedding_1 (Embedding)         (None, None, 128)    1280000     input_2[0][0]                    \n",
      "__________________________________________________________________________________________________\n",
      "lstm_2 (LSTM)                   [(None, 40, 256), (N 525312      lstm_1[0][0]                     \n",
      "__________________________________________________________________________________________________\n",
      "lstm_3 (LSTM)                   [(None, None, 256),  394240      embedding_1[0][0]                \n",
      "                                                                 lstm_2[0][1]                     \n",
      "                                                                 lstm_2[0][2]                     \n",
      "__________________________________________________________________________________________________\n",
      "attention_layer (AdditiveAttent (None, None, 256)    256         lstm_3[0][0]                     \n",
      "                                                                 lstm_2[0][0]                     \n",
      "__________________________________________________________________________________________________\n",
      "concat_layer (Concatenate)      (None, None, 512)    0           lstm_3[0][0]                     \n",
      "                                                                 attention_layer[0][0]            \n",
      "__________________________________________________________________________________________________\n",
      "dense_1 (Dense)                 (None, None, 10000)  5130000     concat_layer[0][0]               \n",
      "==================================================================================================\n",
      "Total params: 10,809,360\n",
      "Trainable params: 10,809,360\n",
      "Non-trainable params: 0\n",
      "__________________________________________________________________________________________________\n"
     ]
    }
   ],
   "source": [
    "from tensorflow.keras.layers import AdditiveAttention\n",
    "\n",
    "# 어텐션 층(어텐션 함수)\n",
    "attn_layer = AdditiveAttention(name='attention_layer')\n",
    "\n",
    "# 인코더와 디코더의 모든 time step의 hidden state를 어텐션 층에 전달하고 결과를 리턴\n",
    "attn_out = attn_layer([decoder_outputs, encoder_outputs])\n",
    "\n",
    "\n",
    "# 어텐션의 결과와 디코더의 hidden state들을 연결\n",
    "decoder_concat_input = Concatenate(axis=-1, name='concat_layer')([decoder_outputs, attn_out])\n",
    "\n",
    "# 디코더의 출력층\n",
    "decoder_softmax_layer = Dense(tar_vocab, activation='softmax')\n",
    "decoder_softmax_outputs = decoder_softmax_layer(decoder_concat_input)\n",
    "\n",
    "# 모델 정의\n",
    "model = Model([encoder_inputs, decoder_inputs], decoder_softmax_outputs)\n",
    "model.summary()"
   ]
  },
  {
   "cell_type": "markdown",
   "id": "d80d3ac5",
   "metadata": {},
   "source": [
    "위의 코드는 인코더의 hidden state들과 디코더의 hidden state들을 어텐션 함수의 입력으로 사용하고, 어텐션 함수가 리턴한 값을 예측 시에 디코더의 hidden state와 함께 활용하는 형태로 작동하고 있다.\n",
    "\n"
   ]
  },
  {
   "cell_type": "markdown",
   "id": "cbd8822a",
   "metadata": {},
   "source": [
    "### 모델 훈련하기"
   ]
  },
  {
   "cell_type": "markdown",
   "id": "e9ead798",
   "metadata": {},
   "source": [
    "설계한 모델을 가지고 훈련을 진행해볼 것이다."
   ]
  },
  {
   "cell_type": "code",
   "execution_count": 76,
   "id": "5f26ee7e",
   "metadata": {},
   "outputs": [
    {
     "name": "stdout",
     "output_type": "stream",
     "text": [
      "Epoch 1/50\n",
      "281/281 [==============================] - 54s 96ms/step - loss: 5.6769 - val_loss: 5.0885\n",
      "Epoch 2/50\n",
      "281/281 [==============================] - 26s 93ms/step - loss: 5.0965 - val_loss: 4.7962\n",
      "Epoch 3/50\n",
      "281/281 [==============================] - 27s 95ms/step - loss: 4.7576 - val_loss: 4.5487\n",
      "Epoch 4/50\n",
      "281/281 [==============================] - 26s 93ms/step - loss: 4.4933 - val_loss: 4.3704\n",
      "Epoch 5/50\n",
      "281/281 [==============================] - 26s 93ms/step - loss: 4.2853 - val_loss: 4.2536\n",
      "Epoch 6/50\n",
      "281/281 [==============================] - 26s 94ms/step - loss: 4.1129 - val_loss: 4.1634\n",
      "Epoch 7/50\n",
      "281/281 [==============================] - 26s 94ms/step - loss: 3.9624 - val_loss: 4.0823\n",
      "Epoch 8/50\n",
      "281/281 [==============================] - 26s 94ms/step - loss: 3.8323 - val_loss: 4.0321\n",
      "Epoch 9/50\n",
      "281/281 [==============================] - 26s 94ms/step - loss: 3.7159 - val_loss: 3.9780\n",
      "Epoch 10/50\n",
      "281/281 [==============================] - 26s 94ms/step - loss: 3.6126 - val_loss: 3.9322\n",
      "Epoch 11/50\n",
      "281/281 [==============================] - 26s 94ms/step - loss: 3.5188 - val_loss: 3.8986\n",
      "Epoch 12/50\n",
      "281/281 [==============================] - 26s 94ms/step - loss: 3.4339 - val_loss: 3.8904\n",
      "Epoch 13/50\n",
      "281/281 [==============================] - 26s 94ms/step - loss: 3.3580 - val_loss: 3.8609\n",
      "Epoch 14/50\n",
      "281/281 [==============================] - 26s 94ms/step - loss: 3.2883 - val_loss: 3.8361\n",
      "Epoch 15/50\n",
      "281/281 [==============================] - 26s 94ms/step - loss: 3.2228 - val_loss: 3.8208\n",
      "Epoch 16/50\n",
      "281/281 [==============================] - 26s 94ms/step - loss: 3.1631 - val_loss: 3.8080\n",
      "Epoch 17/50\n",
      "281/281 [==============================] - 26s 94ms/step - loss: 3.1043 - val_loss: 3.7951\n",
      "Epoch 18/50\n",
      "281/281 [==============================] - 26s 94ms/step - loss: 3.0521 - val_loss: 3.7882\n",
      "Epoch 19/50\n",
      "281/281 [==============================] - 26s 94ms/step - loss: 3.0013 - val_loss: 3.7853\n",
      "Epoch 20/50\n",
      "281/281 [==============================] - 26s 94ms/step - loss: 2.9515 - val_loss: 3.7804\n",
      "Epoch 21/50\n",
      "281/281 [==============================] - 26s 94ms/step - loss: 2.9072 - val_loss: 3.7781\n",
      "Epoch 22/50\n",
      "281/281 [==============================] - 26s 94ms/step - loss: 2.8650 - val_loss: 3.7774\n",
      "Epoch 23/50\n",
      "281/281 [==============================] - 26s 94ms/step - loss: 2.8249 - val_loss: 3.7802\n",
      "Epoch 24/50\n",
      "281/281 [==============================] - 26s 94ms/step - loss: 2.7845 - val_loss: 3.7843\n",
      "Epoch 00024: early stopping\n"
     ]
    }
   ],
   "source": [
    "model.compile(optimizer='rmsprop', loss='sparse_categorical_crossentropy')\n",
    "es = EarlyStopping(monitor='val_loss', patience=2, verbose=1)\n",
    "history = model.fit(x=[encoder_input_train, decoder_input_train], y=decoder_target_train, \\\n",
    "          validation_data=([encoder_input_test, decoder_input_test], decoder_target_test), \\\n",
    "          batch_size=256, callbacks=[es], epochs=50)"
   ]
  },
  {
   "cell_type": "markdown",
   "id": "581d99e3",
   "metadata": {},
   "source": [
    "'조기 종료'를 뜻하는 EarlyStopping은 특정 조건이 충족되면 훈련을 멈추는 역할을 한다.  \n",
    "위 코드에서는 val_loss(검증 데이터의 손실)을 관찰하다가, 검증 데이터의 손실이 줄어들지 않고 증가하는 현상이 2회(patience=2) 관측되면 학습을 멈추도록 설정했다. EarlyStopping이 작동한다면 epochs가 아무리 크게 설정되어 있어도 모델 훈련을 최적점에서 멈출 수 있을 것이다."
   ]
  },
  {
   "cell_type": "markdown",
   "id": "7a5ef0e5",
   "metadata": {},
   "source": [
    "훈련 데이터의 손실과 검증 데이터의 손실이 줄어드는 과정을 시각화 할 것이다. "
   ]
  },
  {
   "cell_type": "code",
   "execution_count": 77,
   "id": "057f5da2",
   "metadata": {},
   "outputs": [
    {
     "data": {
      "image/png": "[encoded data removed]",
      "text/plain": [
       "<Figure size 432x288 with 1 Axes>"
      ]
     },
     "metadata": {
      "needs_background": "light"
     },
     "output_type": "display_data"
    }
   ],
   "source": [
    "plt.plot(history.history['loss'], label='train')\n",
    "plt.plot(history.history['val_loss'], label='test')\n",
    "plt.legend()\n",
    "plt.show()"
   ]
  },
  {
   "cell_type": "raw",
   "id": "812d601e",
   "metadata": {},
   "source": [
    "그래프가 안정적으로 수렴하는 모습을 보여주고 있다."
   ]
  },
  {
   "cell_type": "markdown",
   "id": "d42dda35",
   "metadata": {},
   "source": [
    "### 인퍼런스 모델 구현하기"
   ]
  },
  {
   "cell_type": "markdown",
   "id": "3f71ff4d",
   "metadata": {},
   "source": [
    "테스트 단계에서는 정수 인덱스 행렬로 존재하던 텍스트 데이터를 실제 데이터로 복원해야 하므로, 필요한 3개의 사전을 아래와 같이 미리 준비해 둡니다."
   ]
  },
  {
   "cell_type": "code",
   "execution_count": 80,
   "id": "dc0780ce",
   "metadata": {},
   "outputs": [],
   "source": [
    "src_index_to_word = src_tokenizer.index_word # 원문 단어 집합에서 정수 -> 단어를 얻음\n",
    "tar_word_to_index = tar_tokenizer.word_index # 요약 단어 집합에서 단어 -> 정수를 얻음\n",
    "tar_index_to_word = tar_tokenizer.index_word # 요약 단어 집합에서 정수 -> 단어를 얻음\n"
   ]
  },
  {
   "cell_type": "markdown",
   "id": "1f8ce827",
   "metadata": {},
   "source": [
    "seq2seq는 훈련할 때와 실제 동작할 때(인퍼런스 단계)의 방식이 다르므로 그에 맞게 모델 설계를 별개로 진행해야 한다."
   ]
  },
  {
   "cell_type": "markdown",
   "id": "d6a6850e",
   "metadata": {},
   "source": [
    "훈련 단계에서는 디코더의 입력부에 정답이 되는 문장 전체를 한꺼번에 넣고 디코더의 출력과 한 번에 비교할 수 있으므로, 인코더와 디코더를 엮은 통짜 모델 하나만 준비했습니다.\n",
    "\n",
    "그러나 정답 문장이 없는 인퍼런스 단계에서는 만들어야 할 문장의 길이만큼 디코더가 반복 구조로 동작해야 하기 때문에 부득이하게 인퍼런스를 위한 모델 설계를 별도로 해주어야 합니다. 이때는 인코더 모델과 디코더 모델을 분리해서 설계합니다."
   ]
  },
  {
   "cell_type": "code",
   "execution_count": 81,
   "id": "1fd29305",
   "metadata": {},
   "outputs": [
    {
     "name": "stdout",
     "output_type": "stream",
     "text": [
      "=3\n"
     ]
    }
   ],
   "source": [
    "# 인코더 설계\n",
    "encoder_model = Model(inputs=encoder_inputs, outputs=[encoder_outputs, state_h, state_c])\n",
    "\n",
    "# 이전 시점의 상태들을 저장하는 텐서\n",
    "decoder_state_input_h = Input(shape=(hidden_size,))\n",
    "decoder_state_input_c = Input(shape=(hidden_size,))\n",
    "\n",
    "dec_emb2 = dec_emb_layer(decoder_inputs)\n",
    "\n",
    "# 문장의 다음 단어를 예측하기 위해서 초기 상태(initial_state)를 이전 시점의 상태로 사용. 이는 뒤의 함수 decode_sequence()에 구현\n",
    "# 훈련 과정에서와 달리 LSTM의 리턴하는 은닉 상태와 셀 상태인 state_h와 state_c를 버리지 않음.\n",
    "decoder_outputs2, state_h2, state_c2 = decoder_lstm(dec_emb2, initial_state=[decoder_state_input_h, decoder_state_input_c])\n",
    "\n",
    "print('=3')"
   ]
  },
  {
   "cell_type": "markdown",
   "id": "60d81c8b",
   "metadata": {},
   "source": [
    "어텐션 메커니즘을 사용하는 출력층을 설계"
   ]
  },
  {
   "cell_type": "code",
   "execution_count": 82,
   "id": "f92f91d5",
   "metadata": {},
   "outputs": [
    {
     "name": "stdout",
     "output_type": "stream",
     "text": [
      "=3\n"
     ]
    }
   ],
   "source": [
    "# 어텐션 함수\n",
    "decoder_hidden_state_input = Input(shape=(text_max_len, hidden_size))\n",
    "attn_out_inf = attn_layer([decoder_outputs2, decoder_hidden_state_input])\n",
    "decoder_inf_concat = Concatenate(axis=-1, name='concat')([decoder_outputs2, attn_out_inf])\n",
    "\n",
    "# 디코더의 출력층\n",
    "decoder_outputs2 = decoder_softmax_layer(decoder_inf_concat) \n",
    "\n",
    "# 최종 디코더 모델\n",
    "decoder_model = Model(\n",
    "    [decoder_inputs] + [decoder_hidden_state_input,decoder_state_input_h, decoder_state_input_c],\n",
    "    [decoder_outputs2] + [state_h2, state_c2])\n",
    "\n",
    "print('=3')"
   ]
  },
  {
   "cell_type": "markdown",
   "id": "61b10e57",
   "metadata": {},
   "source": [
    "인퍼런스 단계에서 단어 시퀀스를 완성하는 함수 설계"
   ]
  },
  {
   "cell_type": "code",
   "execution_count": 83,
   "id": "f7c4e761",
   "metadata": {},
   "outputs": [
    {
     "name": "stdout",
     "output_type": "stream",
     "text": [
      "=3\n"
     ]
    }
   ],
   "source": [
    "def decode_sequence(input_seq):\n",
    "    # 입력으로부터 인코더의 상태를 얻음\n",
    "    e_out, e_h, e_c = encoder_model.predict(input_seq)\n",
    "\n",
    "     # <SOS>에 해당하는 토큰 생성\n",
    "    target_seq = np.zeros((1,1))\n",
    "    target_seq[0, 0] = tar_word_to_index['sostoken']\n",
    "\n",
    "    stop_condition = False\n",
    "    decoded_sentence = ''\n",
    "    while not stop_condition: # stop_condition이 True가 될 때까지 루프 반복\n",
    "\n",
    "        output_tokens, h, c = decoder_model.predict([target_seq] + [e_out, e_h, e_c])\n",
    "        sampled_token_index = np.argmax(output_tokens[0, -1, :])\n",
    "        sampled_token = tar_index_to_word[sampled_token_index]\n",
    "\n",
    "        if (sampled_token!='eostoken'):\n",
    "            decoded_sentence += ' '+sampled_token\n",
    "\n",
    "        #  <eos>에 도달하거나 최대 길이를 넘으면 중단.\n",
    "        if (sampled_token == 'eostoken'  or len(decoded_sentence.split()) >= (summary_max_len-1)):\n",
    "            stop_condition = True\n",
    "\n",
    "        # 길이가 1인 타겟 시퀀스를 업데이트\n",
    "        target_seq = np.zeros((1,1))\n",
    "        target_seq[0, 0] = sampled_token_index\n",
    "\n",
    "        # 상태를 업데이트 합니다.\n",
    "        e_h, e_c = h, c\n",
    "\n",
    "    return decoded_sentence\n",
    "print('=3')"
   ]
  },
  {
   "cell_type": "markdown",
   "id": "f9b25e22",
   "metadata": {},
   "source": [
    "## 4. 실제 결과와 요약문 비교하기 (추상적 요약)"
   ]
  },
  {
   "cell_type": "markdown",
   "id": "9c3869dd",
   "metadata": {},
   "source": [
    "### 모델 테스트하기"
   ]
  },
  {
   "cell_type": "markdown",
   "id": "f5ba6fce",
   "metadata": {},
   "source": [
    "테스트 단계에서는 정수 시퀀스를 텍스트 시퀀스로 변환하여 결과를 확인하는 것이 편할 것이다.. 주어진 정수 시퀀스를 텍스트 시퀀스로 변환하는 함수를 만들겠다. 함수를 만들 때, Text의 정수 시퀀스에서는 패딩을 위해 사용되는 숫자 0을 제외하고 Summary의 정수 시퀀스에서는 숫자 0, 시작 토큰의 인덱스, 종료 토큰의 인덱스를 출력에서 제외하도록 만들 것이다.\n",
    "\n"
   ]
  },
  {
   "cell_type": "code",
   "execution_count": 84,
   "id": "f2c3b544",
   "metadata": {},
   "outputs": [],
   "source": [
    "# 원문의 정수 시퀀스를 텍스트 시퀀스로 변환\n",
    "def seq2text(input_seq):\n",
    "    temp=''\n",
    "    for i in input_seq:\n",
    "        if (i!=0):\n",
    "            temp = temp + src_index_to_word[i]+' '\n",
    "    return temp\n",
    "\n",
    "# 요약문의 정수 시퀀스를 텍스트 시퀀스로 변환\n",
    "def seq2summary(input_seq):\n",
    "    temp=''\n",
    "    for i in input_seq:\n",
    "        if ((i!=0 and i!=tar_word_to_index['sostoken']) and i!=tar_word_to_index['eostoken']):\n",
    "            temp = temp + tar_index_to_word[i] + ' '\n",
    "    return temp"
   ]
  },
  {
   "cell_type": "code",
   "execution_count": 85,
   "id": "dcb1391d",
   "metadata": {},
   "outputs": [
    {
     "name": "stdout",
     "output_type": "stream",
     "text": [
      "원문 : residents italy venice protesting mass tourism alleging eroded quality life damaged environment claimed tourism driving away local residents venice current population remains around people leaving year go way venice populated tourists protest organisers said \n",
      "실제 요약 : residents in venice protest against tourism \n",
      "예측 요약 :  residents escape in up to escape cow on new year\n",
      "\n",
      "\n",
      "원문 : iran monday denied kuwait expelled ambassador reports emerged gulf country ordered expulsion iranian ambassador diplomats ambassador continue kuwait iranian officials said two countries involved row iran alleged links spy terror cell \n",
      "실제 요약 : iranian ambassador to remain in kuwait despite row \n",
      "예측 요약 :  iran court orders iran to return to iran\n",
      "\n",
      "\n",
      "원문 : prolonged drought italy may lead water country faces spring years reports said water supply shutdowns could last long eight hours daily parts country received rainfall totalling normal officials said drought could reportedly lead rome fountains turned \n",
      "실제 요약 : italy may face water due to drought \n",
      "예측 요약 :  water to be in water due to water\n",
      "\n",
      "\n",
      "원문 : minister road transport highways nitin gadkari monday said driverless cars technology takes away jobs allowed india unemployed youth big issue shortage drivers added currently driverless car technology tested several countries us uk \n",
      "실제 요약 : we will not allow driverless cars in india government \n",
      "예측 요약 :  govt will be in electric vehicles gadkari\n",
      "\n",
      "\n",
      "원문 : president cinema owners association india nitin said plans write government seeking protection theatres indu sarkar screened decision taken view congress party workers certain elements creating ruckus film said \n",
      "실제 요약 : theatre owners to seek govt security for indu sarkar release \n",
      "예측 요약 :  no proposal to be out of the sterlite\n",
      "\n",
      "\n",
      "원문 : central board film certification chief pahlaj nihalani said film alcohol scenes essential would require adult certificate merely putting warning corner screen whenever smoking drinking shown enough added pahlaj said superstars set example societal behaviour \n",
      "실제 요약 : film with alcohol scene would need certificate cbfc chief \n",
      "예측 요약 :  cbfc chief calls me pahlaj on pahlaj pahlaj pahlaj\n",
      "\n",
      "\n",
      "원문 : last address nation outgoing president pranab mukherjee monday said parliament temple service people india passion successful discharging responsibilities judged time critical lens history added \n",
      "실제 요약 : my temple has been the parliament of india prez mukherjee \n",
      "예측 요약 :  prez kovind is the of the country president kovind\n",
      "\n",
      "\n",
      "원문 : india population crore people crore valid passport according reports quoting government data reportedly due limited interest means indians undertake foreign trips due decreasing job opportunities gulf countries india third terms issuing passports china us \n",
      "실제 요약 : only of india population has passports \n",
      "예측 요약 :  india has cr accounts worth lakh in fy\n",
      "\n",
      "\n",
      "원문 : american record producer shared picture actor shah rukh khan upcoming collaboration song reportedly feature jab harry met sejal seen sporting indian suit coat bandh gala prayer shah rukh seen wearing leather jacket decent written \n",
      "실제 요약 : shares pic with srk from their \n",
      "예측 요약 :  srk srk to appear together in srk for rukh khan\n",
      "\n",
      "\n",
      "원문 : actor farhan akhtar filmmaker ritesh sidhwani set produce biopic deepa malik first indian woman win medal paralympics talking project ritesh said met empowering pillar strength knew needed take fight big screen \n",
      "실제 요약 : biopic to be made on india st female medallist \n",
      "예측 요약 :  farhan akhtar to play in his film on his debut film\n",
      "\n",
      "\n",
      "원문 : director raja krishna menon said actor akshay kumar simply brilliant neither akshay audience feel need endorse performance award said reacting akshay receiving nominations performance recent award shows think worth even thinking added menon nn \n",
      "실제 요약 : no need for award to akshay role director \n",
      "예측 요약 :  akshay kumar is like akshay kumar\n",
      "\n",
      "\n",
      "원문 : china monday warned india push luck determination safeguard considers sovereign chinese territory comes amid ongoing standoff two nations disputed doklam region warning india china claimed easier shake mountain shake chinese army \n",
      "실제 요약 : china warns india not to it amid standoff \n",
      "예측 요약 :  china china agree to china chinese trade war\n",
      "\n",
      "\n",
      "원문 : online health publisher health monday said agreed bought private equity firm kkr deal valued billion deal brings together websites com com com kkr com com founded one popular health websites \n",
      "실제 요약 : to be bought by private equity firm kkr for cr \n",
      "예측 요약 :  musk to buy stake in bn for bn reports\n",
      "\n",
      "\n",
      "원문 : philippine president rodrigo duterte warned drug users either face jail hell advocated capital punishment crime adding war drugs continue despite international criticism duterte said value human life way value mine life translates future generations lost \n",
      "실제 요약 : face jail or hell philippine prez duterte to drug users \n",
      "예측 요약 :  philippine prez duterte calls philippine prez duterte\n",
      "\n",
      "\n",
      "원문 : polish president announced controversial judiciary bills proposed replace supreme court judges government nominees comes tens thousands poles protested changes fear would undermine independence judiciary european commission threatened impose sanctions reforms scrapped \n",
      "실제 요약 : polish prez vetoes bill giving govt control over judiciary \n",
      "예측 요약 :  sc upholds new rules on constitution\n",
      "\n",
      "\n",
      "원문 : digital currency startup ripple finished second quarter value rising since year beginning company said purchases came institutional investors actively using ripple licensed money service business notably ripple listed exchanges currently third place market capitalisation bitcoin \n",
      "실제 요약 : bitcoin rival ripple value increased by in \n",
      "예측 요약 :  infosys loses crore in infosys after results\n",
      "\n",
      "\n",
      "원문 : employees state owned telecom firm bharat nigam limited called nationwide strike july given wage hike third pay revision committee hike recommended basis performance public sector firms employee union said bsnl became loss making entity anti bsnl policies government \n",
      "실제 요약 : bsnl employees to go on nationwide strike for wage hike \n",
      "예측 요약 :  assam govt employees oppose strike over anti quota\n",
      "\n",
      "\n",
      "원문 : government making good progress dealing bad loans weighing country banks hdfc bank managing director aditya puri said resolution debt help boost added notably india banking sector total lakh crore bad loans \n",
      "실제 요약 : govt making good progress in dealing with bad loans hdfc md \n",
      "예측 요약 :  govt to get cr from banks banks report\n",
      "\n",
      "\n",
      "원문 : journalist requested supreme court direct government let sri tirumala tirupati venkateswara temple exchange crore banned notes donated devotees man petition said non acceptance devotees offerings discriminatory meant wishes remain world second richest temple assets worth crore \n",
      "실제 요약 : plea in sc to let temple exchange old notes of cr \n",
      "예측 요약 :  sc allows govt to pay cr for cr in manipur\n",
      "\n",
      "\n",
      "원문 : actor ranveer singh shared video sporting pot belly instagram captioned video dna pop culture reference means genetic material responsible winning earlier twitter users jokingly commented ranveer looked like condom referring outfit wore shahid kapoor birthday \n",
      "실제 요약 : video shows ranveer with belly \n",
      "예측 요약 :  ranveer shares pic of ranveer dancing at his party\n",
      "\n",
      "\n",
      "원문 : american rapper nicki minaj joined snapchat weekend shared screenshot snapchat asking help fans post yo teach use wrote fans messages within hour post forcing log app \n",
      "실제 요약 : nicki minaj asks for help on how to use snapchat \n",
      "예측 요약 :  imtiaz ali fazal shares video of him\n",
      "\n",
      "\n",
      "원문 : reacting release dhinchak pooja new song cash user tweeted dhinchak pooja back faith music restored user wrote another tweet read ears meanwhile user wrote oh back need kind confidence life \n",
      "실제 요약 : dhinchak pooja is back faith in music restored tweets user \n",
      "예측 요약 :  twitter reacts to copy of user on instagram\n",
      "\n",
      "\n",
      "원문 : john abraham said upcoming film parmanu story pokhran show anything political film based pokhran nuclear tests conducted atal bihari vajpayee india prime minister john added atal ji one greatest prime ministers film entertaining \n",
      "실제 요약 : not showing anything political in parmanu john \n",
      "예측 요약 :  john abraham to star in parmanu for parmanu report\n",
      "\n",
      "\n",
      "원문 : esha deol shared collage mother hema malini instagram captioned mother house style icon loved style comfort maternity style picture seen wearing gown similar hema esha married bharat takhtani pregnant first child \n",
      "실제 요약 : my mother hema is my in house style icon esha deol \n"
     ]
    },
    {
     "name": "stdout",
     "output_type": "stream",
     "text": [
      "예측 요약 :  esha deol shares picture with his mother\n",
      "\n",
      "\n",
      "원문 : youtube personality dhinchak pooja released new song cash following removal several music videos youtube copyright issues released new song video songs including ka shooter hai mera scooter taken youtube copyright claim someone named singh \n",
      "실제 요약 : dhinchak pooja releases new song after copyright row \n",
      "예측 요약 :  youtube releases video of new song from youtube\n",
      "\n",
      "\n",
      "원문 : delhi government monday flagged six mobile vans raise awareness goods services tax address concerns traders regarding new tax regime vans would run different markets across city around days officials would address issues raised traders also take suggestions \n",
      "실제 요약 : delhi govt launches gst vans to address traders concerns \n",
      "예측 요약 :  delhi govt to buy tax on freecharge for\n",
      "\n",
      "\n",
      "원문 : south delhi municipal corporation proposed construction six storey parking hold least cars defence colony market solve issue insufficient parking space parking reportedly cost around crore proposed part civic bodies market development project focusing south delhi markets \n",
      "실제 요약 : govt plans parking at delhi defence colony \n",
      "예측 요약 :  delhi metro body to get green power for power\n",
      "\n",
      "\n",
      "원문 : central board excise customs criticised west bengal introduction way bill system without waiting launch centre way bill would rolled infrastructure ready employ chips qr codes ensure speedy movement goods gst way bill required transport goods worth \n",
      "실제 요약 : slams west bengal of way bill \n",
      "예측 요약 :  west bengal to introduce ban on panchayat\n",
      "\n",
      "\n",
      "원문 : maharashtra dam provides water cities thane district filled total capacity due heavy rainfall officials said water stock dam ensure nominal water cuts happen next year notably height dam increased accommodate water stock \n",
      "실제 요약 : heavy rainfall fills dam up to of its capacity \n",
      "예측 요약 :  maharashtra to get water water water after days\n",
      "\n",
      "\n",
      "원문 : jammu kashmir police monday said arrested people accused lynching dsp mohammad outside mosque month ago police added one accused killed encounter security forces earlier month reportedly police also recovered iron rod used hit \n",
      "실제 요약 : held for lynching kashmir cop near mosque \n",
      "예측 요약 :  police killed in bulandshahr violence case arrested\n",
      "\n",
      "\n",
      "원문 : microsoft announced long standing basic graphics editing program ms paint longer available next windows update called autumn creators update program first released first version windows ms paint removal part microsoft plan shut programs active development \n",
      "실제 요약 : microsoft to shut down ms years after its launch \n",
      "예측 요약 :  microsoft microsoft to launch windows microsoft\n",
      "\n",
      "\n",
      "원문 : trailer upcoming film poster boys starring real life brothers sunny deol bobby deol actor shreyas talpade released film revolves around three characters lives change find pictures poster promoting directed shreyas talpade film scheduled release september \n",
      "실제 요약 : trailer of sunny deol bobby deol poster boys released \n",
      "예측 요약 :  trailer of rajkummar rao starrer released\n",
      "\n",
      "\n",
      "원문 : singer sunidhi chauhan said understand songs recreated india despite much talent country added many people waiting get opportunity talented fond sunidhi said original music required else music gets repetitive audiences \n",
      "실제 요약 : do not get why we recreate songs despite our talent sunidhi \n",
      "예측 요약 :  do not want to show the fashion show rahman on rahman\n",
      "\n",
      "\n",
      "원문 : actor amitabh bachchan announced role unicef goodwill ambassador extended two years said owing success polio drive bachchan working spreading awareness regarding vaccination mr infections children \n",
      "실제 요약 : bachchan role as unicef ambassador extended for more yrs \n",
      "예측 요약 :  amitabh bachchan to be held for not paying for months\n",
      "\n",
      "\n",
      "원문 : sweety tera drama first song kriti sanon ayushmann khurrana rajkummar rao starrer bareilly ki barfi released composed tanishk bagchi sung dev negi pandey shraddha pandit lyrics ahmed directed ashwiny iyer tiwari film scheduled release august \n",
      "실제 요약 : bareilly ki barfi first song drama released \n",
      "예측 요약 :  ayushmann bhumi starrer ayushmann starrer stree out\n",
      "\n",
      "\n",
      "원문 : british cyclist chris third consecutive fourth overall tour de france finishing race hours minutes seconds paris sunday year old rider finished event second lead moved within one win time record km day long grand tour featured total riders \n",
      "실제 요약 : wins th tour de france finishes race in under hrs \n",
      "예측 요약 :  hamilton wins th straight race in mins\n",
      "\n",
      "\n",
      "원문 : man arrested london airport allegedly tried open plane door air flight man walked front plane sat next woman emergency exit wing suddenly across open door restrained crew flight \n",
      "실제 요약 : passenger arrested after trying to open plane door mid air \n",
      "예측 요약 :  man arrested for smoking in plane crash in delhi\n",
      "\n",
      "\n",
      "원문 : least people killed others injured monday suicide bomb blast lahore near office pakistan pm nawaz sharif brother punjab cm shehbaz attack reportedly targeted police personnel deployed site buildings near blast site evacuated group claimed responsibility blast yet \n",
      "실제 요약 : killed in suicide blast near office of pak pm brother \n",
      "예측 요약 :  killed in pakistan attack on afghan sharif convoy\n",
      "\n",
      "\n",
      "원문 : uk foreign secretary boris johnson likened traditional greeting head butt visiting indigenous leaders new zealand said involves two people pressing together might misinterpreted pub glasgow boris visiting new zealand britain aims strengthen ties preparation brexit \n",
      "실제 요약 : uk foreign secy jokes could start pub fight \n",
      "예측 요약 :  uk prez to visit uk to uk foreign secy johnson\n",
      "\n",
      "\n",
      "원문 : starbucks customer stopped armed robbery hitting suspect head chair stabbing knife robber stabbed year old latter grabbed hold knife recovering suspect wearing mask carrying knife gun identified \n",
      "실제 요약 : starbucks diner hits robber on head with chair stops theft \n",
      "예측 요약 :  tourist attacks man shoots himself in us\n",
      "\n",
      "\n",
      "원문 : five year old girl fined running homemade stall london received dozens offers set stalls festivals events girl cried council enforcement officers accused trading without licence however council later apologised cancelled fine \n",
      "실제 요약 : girl fined for stand gets of job offers \n",
      "예측 요약 :  woman who to give to drink driving in hyd\n",
      "\n",
      "\n",
      "원문 : apex consumer commission asked unitech refund lakh delay delivering possession property buyer cannot expected wait indefinitely said commission also held unitech guilty service unfair practice even receiving consideration amount failed deliver possession \n",
      "실제 요약 : unitech ordered to refund over lakh to buyer over delay \n",
      "예측 요약 :  no tax on insurance number of rti act dept\n",
      "\n",
      "\n",
      "원문 : delhi state consumer panel directed sbi refund lakh customer taking effective steps block stolen atm card also imposed cost lakh sbi filing frivolous appeal case service complainant received single penny years noted \n",
      "실제 요약 : sbi asked to refund lakh to woman over stolen atm card \n",
      "예측 요약 :  delhi court imposes lakh fine on atm for\n",
      "\n",
      "\n",
      "원문 : bse sensex hit record closing high rising points nse nifty also surged points touch life time closing high rally technology stocks hdfc bank earnings helped market end fresh record closing high wipro reliance industries hdfc bank itc among major gainers \n",
      "실제 요약 : sensex nifty close at all time high \n",
      "예측 요약 :  sensex\n",
      "\n",
      "\n",
      "원문 : hdfc bank reported increase net profit crore quarter ended june compared period last year total bad loans rose crore crore year ago notably net interest income core income bank earns giving loans increased income jumped \n",
      "실제 요약 : hdfc bank net profit rises to crore \n",
      "예측 요약 :  hdfc bank profit rises to crore in september quarter\n",
      "\n",
      "\n",
      "원문 : actor arjun kapoor said affiliate films derogatory towards women speaking influence films masses added filmmakers creative people start becoming society means infrastructure government let us drastically \n",
      "실제 요약 : will not associate with films derogatory towards women arjun \n",
      "예측 요약 :  women should be in the same of women arjun\n",
      "\n",
      "\n",
      "원문 : kerala police arrested production executive named kiran kumar following complaint filed malayalam actress posted private pictures social media kiran reportedly relationship also said ended got know kumar married allegedly blackmailing actress ransom \n",
      "실제 요약 : man arrested for posting private pics of malayalam actress \n",
      "예측 요약 :  kerala police arrests singer for not giving his marriage\n",
      "\n",
      "\n",
      "원문 : actress twinkle khanna tweeted getting choked inside flight due co passenger socks added complained air hostess tweeting twinkle wrote around fell asleep sprayed feet \n",
      "실제 요약 : twinkle tweets about on flight due to socks \n"
     ]
    },
    {
     "name": "stdout",
     "output_type": "stream",
     "text": [
      "예측 요약 :  was not to be with out of airport twinkle on flight\n",
      "\n",
      "\n",
      "원문 : actress shabana azmi said filmmakers decide want cut scenes film board added censor board certify films censor scenes however much say cbfc autonomous body people taken board kind ruling party added shabana \n",
      "실제 요약 : directors should decide if they want cuts not board azmi \n",
      "예측 요약 :  cbfc denies reports of film on film completing housefull\n",
      "\n",
      "\n",
      "원문 : oldest known world passed away sunday day celebrating th birthday death appeared heartbreaking accident died getting stuck maintenance hatch south florida museum ceo anne said devastated staff volunteers board members considered star added \n",
      "실제 요약 : world oldest dies day after th birthday \n",
      "예측 요약 :  dies after heart attack on heart dies in accident\n",
      "\n",
      "\n"
     ]
    }
   ],
   "source": [
    "for i in range(50, 100):\n",
    "    print(\"원문 :\", seq2text(encoder_input_test[i]))\n",
    "    print(\"실제 요약 :\", seq2summary(decoder_input_test[i]))\n",
    "    print(\"예측 요약 :\", decode_sequence(encoder_input_test[i].reshape(1, text_max_len)))\n",
    "    print(\"\\n\")"
   ]
  },
  {
   "cell_type": "markdown",
   "id": "4047338b",
   "metadata": {},
   "source": [
    "기존의 요약과는 다른 요약을 출력하면서도 원문의 내용을 담고 있는 의미 있는 요약들이 보인다. 문법적으로는 조금 어긋낫을 지 모르지만\n",
    "주요단어들을 잘 잡아내는 것 같다. 하지만 몇개는 요약을 잘 해내지 못하는 거 같기도 하다."
   ]
  },
  {
   "cell_type": "markdown",
   "id": "7b10803b",
   "metadata": {},
   "source": [
    "## 5. Summa을 이용해서 추출적 요약해보기"
   ]
  },
  {
   "cell_type": "code",
   "execution_count": 102,
   "id": "16c2afc7",
   "metadata": {},
   "outputs": [],
   "source": [
    "import requests\n",
    "from summa.summarizer import summarize"
   ]
  },
  {
   "cell_type": "code",
   "execution_count": 122,
   "id": "3d249791",
   "metadata": {
    "scrolled": true
   },
   "outputs": [
    {
     "name": "stdout",
     "output_type": "stream",
     "text": [
      "원문 : residents italy venice protesting mass tourism alleging eroded quality life damaged environment claimed tourism driving away local residents venice current population remains around people leaving year go way venice populated tourists protest organisers said \n",
      "실제 요약 : residents in venice protest against tourism \n",
      "예측 요약 : residents italy mass eroded quality driving residents organisers said\n",
      "\n",
      "\n",
      "원문 : iran monday denied kuwait expelled ambassador reports emerged gulf country ordered expulsion iranian ambassador diplomats ambassador continue kuwait iranian officials said two countries involved row iran alleged links spy terror cell \n",
      "실제 요약 : iranian ambassador to remain in kuwait despite row \n",
      "예측 요약 : iran denied kuwait emerged diplomats officials iran spy terror\n",
      "\n",
      "\n",
      "원문 : prolonged drought italy may lead water country faces spring years reports said water supply shutdowns could last long eight hours daily parts country received rainfall totalling normal officials said drought could reportedly lead rome fountains turned \n",
      "실제 요약 : italy may face water due to drought \n",
      "예측 요약 : prolonged lead reports supply shutdowns long parts officials reportedly\n",
      "\n",
      "\n",
      "원문 : minister road transport highways nitin gadkari monday said driverless cars technology takes away jobs allowed india unemployed youth big issue shortage drivers added currently driverless car technology tested several countries us uk \n",
      "실제 요약 : we will not allow driverless cars in india government \n",
      "예측 요약 : minister highways monday cars technology unemployed car technology countries\n",
      "\n",
      "\n",
      "원문 : president cinema owners association india nitin said plans write government seeking protection theatres indu sarkar screened decision taken view congress party workers certain elements creating ruckus film said \n",
      "실제 요약 : theatre owners to seek govt security for indu sarkar release \n",
      "예측 요약 : president cinema association said government seeking decision ruckus said\n",
      "\n",
      "\n",
      "원문 : central board film certification chief pahlaj nihalani said film alcohol scenes essential would require adult certificate merely putting warning corner screen whenever smoking drinking shown enough added pahlaj said superstars set example societal behaviour \n",
      "실제 요약 : film with alcohol scene would need certificate cbfc chief \n",
      "예측 요약 : central board certification nihalani scenes essential certificate corner societal\n",
      "\n",
      "\n",
      "원문 : last address nation outgoing president pranab mukherjee monday said parliament temple service people india passion successful discharging responsibilities judged time critical lens history added \n",
      "실제 요약 : my temple has been the parliament of india prez mukherjee \n",
      "예측 요약 : address nation president mukherjee said parliament temple people india\n",
      "\n",
      "\n",
      "원문 : india population crore people crore valid passport according reports quoting government data reportedly due limited interest means indians undertake foreign trips due decreasing job opportunities gulf countries india third terms issuing passports china us \n",
      "실제 요약 : only of india population has passports \n",
      "예측 요약 : india people government limited means indians trips countries india\n",
      "\n",
      "\n",
      "원문 : american record producer shared picture actor shah rukh khan upcoming collaboration song reportedly feature jab harry met sejal seen sporting indian suit coat bandh gala prayer shah rukh seen wearing leather jacket decent written \n",
      "실제 요약 : shares pic with srk from their \n",
      "예측 요약 : american actor khan upcoming feature sejal suit prayer jacket\n",
      "\n",
      "\n",
      "원문 : actor farhan akhtar filmmaker ritesh sidhwani set produce biopic deepa malik first indian woman win medal paralympics talking project ritesh said met empowering pillar strength knew needed take fight big screen \n",
      "실제 요약 : biopic to be made on india st female medallist \n",
      "예측 요약 : actor farhan sidhwani deepa woman talking empowering needed screen\n",
      "\n",
      "\n",
      "원문 : director raja krishna menon said actor akshay kumar simply brilliant neither akshay audience feel need endorse performance award said reacting akshay receiving nominations performance recent award shows think worth even thinking added menon nn \n",
      "실제 요약 : no need for award to akshay role director \n",
      "예측 요약 : director menon brilliant feel need endorse reacting think thinking\n",
      "\n",
      "\n",
      "원문 : china monday warned india push luck determination safeguard considers sovereign chinese territory comes amid ongoing standoff two nations disputed doklam region warning india china claimed easier shake mountain shake chinese army \n",
      "실제 요약 : china warns india not to it amid standoff \n",
      "예측 요약 : china india sovereign territory comes amid nations china easier\n",
      "\n",
      "\n",
      "원문 : online health publisher health monday said agreed bought private equity firm kkr deal valued billion deal brings together websites com com com kkr com com founded one popular health websites \n",
      "실제 요약 : to be bought by private equity firm kkr for cr \n",
      "예측 요약 : online health publisher health agreed kkr kkr popular health\n",
      "\n",
      "\n",
      "원문 : philippine president rodrigo duterte warned drug users either face jail hell advocated capital punishment crime adding war drugs continue despite international criticism duterte said value human life way value mine life translates future generations lost \n",
      "실제 요약 : face jail or hell philippine prez duterte to drug users \n",
      "예측 요약 : philippine rodrigo duterte users jail punishment adding duterte future\n",
      "\n",
      "\n",
      "원문 : polish president announced controversial judiciary bills proposed replace supreme court judges government nominees comes tens thousands poles protested changes fear would undermine independence judiciary european commission threatened impose sanctions reforms scrapped \n",
      "실제 요약 : polish prez vetoes bill giving govt control over judiciary \n",
      "예측 요약 : polish announced controversial proposed replace supreme nominees tens sanctions\n",
      "\n",
      "\n",
      "원문 : digital currency startup ripple finished second quarter value rising since year beginning company said purchases came institutional investors actively using ripple licensed money service business notably ripple listed exchanges currently third place market capitalisation bitcoin \n",
      "실제 요약 : bitcoin rival ripple value increased by in \n",
      "예측 요약 : digital second year company purchases actively business market capitalisation\n",
      "\n",
      "\n",
      "원문 : employees state owned telecom firm bharat nigam limited called nationwide strike july given wage hike third pay revision committee hike recommended basis performance public sector firms employee union said bsnl became loss making entity anti bsnl policies government \n",
      "실제 요약 : bsnl employees to go on nationwide strike for wage hike \n",
      "예측 요약 : employees state owned firm nigam called employee policies government\n",
      "\n",
      "\n",
      "원문 : government making good progress dealing bad loans weighing country banks hdfc bank managing director aditya puri said resolution debt help boost added notably india banking sector total lakh crore bad loans \n",
      "실제 요약 : govt making good progress in dealing with bad loans hdfc md \n",
      "예측 요약 : progress loans banks hdfc bank resolution banking lakh loans\n",
      "\n",
      "\n",
      "원문 : journalist requested supreme court direct government let sri tirumala tirupati venkateswara temple exchange crore banned notes donated devotees man petition said non acceptance devotees offerings discriminatory meant wishes remain world second richest temple assets worth crore \n",
      "실제 요약 : plea in sc to let temple exchange old notes of cr \n",
      "예측 요약 : journalist requested supreme court direct devotees devotees richest assets\n",
      "\n",
      "\n",
      "원문 : actor ranveer singh shared video sporting pot belly instagram captioned video dna pop culture reference means genetic material responsible winning earlier twitter users jokingly commented ranveer looked like condom referring outfit wore shahid kapoor birthday \n",
      "실제 요약 : video shows ranveer with belly \n",
      "예측 요약 : actor ranveer singh video pot instagram ranveer kapoor birthday\n",
      "\n",
      "\n",
      "원문 : american rapper nicki minaj joined snapchat weekend shared screenshot snapchat asking help fans post yo teach use wrote fans messages within hour post forcing log app \n",
      "실제 요약 : nicki minaj asks for help on how to use snapchat \n",
      "예측 요약 : american rapper weekend screenshot asking help yo wrote forcing\n",
      "\n",
      "\n",
      "원문 : reacting release dhinchak pooja new song cash user tweeted dhinchak pooja back faith music restored user wrote another tweet read ears meanwhile user wrote oh back need kind confidence life \n",
      "실제 요약 : dhinchak pooja is back faith in music restored tweets user \n",
      "예측 요약 : reacting pooja new pooja music restored oh kind confidence\n",
      "\n",
      "\n",
      "원문 : john abraham said upcoming film parmanu story pokhran show anything political film based pokhran nuclear tests conducted atal bihari vajpayee india prime minister john added atal ji one greatest prime ministers film entertaining \n",
      "실제 요약 : not showing anything political in parmanu john \n",
      "예측 요약 : john abraham upcoming pokhran based pokhran tests conducted john\n",
      "\n",
      "\n",
      "원문 : esha deol shared collage mother hema malini instagram captioned mother house style icon loved style comfort maternity style picture seen wearing gown similar hema esha married bharat takhtani pregnant first child \n",
      "실제 요약 : my mother hema is my in house style icon esha deol \n",
      "예측 요약 : esha collage house icon loved comfort seen esha bharat\n",
      "\n",
      "\n",
      "원문 : youtube personality dhinchak pooja released new song cash following removal several music videos youtube copyright issues released new song video songs including ka shooter hai mera scooter taken youtube copyright claim someone named singh \n",
      "실제 요약 : dhinchak pooja releases new song after copyright row \n",
      "예측 요약 : youtube dhinchak cash youtube issues ka youtube claim named\n",
      "\n",
      "\n",
      "원문 : delhi government monday flagged six mobile vans raise awareness goods services tax address concerns traders regarding new tax regime vans would run different markets across city around days officials would address issues raised traders also take suggestions \n",
      "실제 요약 : delhi govt launches gst vans to address traders concerns \n",
      "예측 요약 : delhi monday flagged awareness traders regime officials issues traders\n",
      "\n",
      "\n",
      "원문 : south delhi municipal corporation proposed construction six storey parking hold least cars defence colony market solve issue insufficient parking space parking reportedly cost around crore proposed part civic bodies market development project focusing south delhi markets \n",
      "실제 요약 : govt plans parking at delhi defence colony \n",
      "예측 요약 : south cars market solve space bodies market south markets\n",
      "\n",
      "\n",
      "원문 : central board excise customs criticised west bengal introduction way bill system without waiting launch centre way bill would rolled infrastructure ready employ chips qr codes ensure speedy movement goods gst way bill required transport goods worth \n",
      "실제 요약 : slams west bengal of way bill \n",
      "예측 요약 : central board customs bengal waiting launch ready chips transport\n",
      "\n",
      "\n",
      "원문 : maharashtra dam provides water cities thane district filled total capacity due heavy rainfall officials said water stock dam ensure nominal water cuts happen next year notably height dam increased accommodate water stock \n",
      "실제 요약 : heavy rainfall fills dam up to of its capacity \n",
      "예측 요약 : maharashtra provides water filled said water ensure height increased\n",
      "\n",
      "\n",
      "원문 : jammu kashmir police monday said arrested people accused lynching dsp mohammad outside mosque month ago police added one accused killed encounter security forces earlier month reportedly police also recovered iron rod used hit \n",
      "실제 요약 : held for lynching kashmir cop near mosque \n",
      "예측 요약 : jammu kashmir said accused lynching month month rod hit\n",
      "\n",
      "\n",
      "원문 : microsoft announced long standing basic graphics editing program ms paint longer available next windows update called autumn creators update program first released first version windows ms paint removal part microsoft plan shut programs active development \n",
      "실제 요약 : microsoft to shut down ms years after its launch \n",
      "예측 요약 : microsoft long program update program microsoft shut programs active\n",
      "\n",
      "\n",
      "원문 : trailer upcoming film poster boys starring real life brothers sunny deol bobby deol actor shreyas talpade released film revolves around three characters lives change find pictures poster promoting directed shreyas talpade film scheduled release september \n",
      "실제 요약 : trailer of sunny deol bobby deol poster boys released \n"
     ]
    },
    {
     "name": "stdout",
     "output_type": "stream",
     "text": [
      "예측 요약 : trailer poster sunny bobby actor shreyas revolves promoting shreyas\n",
      "\n",
      "\n",
      "원문 : singer sunidhi chauhan said understand songs recreated india despite much talent country added many people waiting get opportunity talented fond sunidhi said original music required else music gets repetitive audiences \n",
      "실제 요약 : do not get why we recreate songs despite our talent sunidhi \n",
      "예측 요약 : singer sunidhi recreated despite talent waiting talented sunidhi original\n",
      "\n",
      "\n",
      "원문 : actor amitabh bachchan announced role unicef goodwill ambassador extended two years said owing success polio drive bachchan working spreading awareness regarding vaccination mr infections children \n",
      "실제 요약 : bachchan role as unicef ambassador extended for more yrs \n",
      "예측 요약 : actor amitabh goodwill extended years said polio spreading mr\n",
      "\n",
      "\n",
      "원문 : sweety tera drama first song kriti sanon ayushmann khurrana rajkummar rao starrer bareilly ki barfi released composed tanishk bagchi sung dev negi pandey shraddha pandit lyrics ahmed directed ashwiny iyer tiwari film scheduled release august \n",
      "실제 요약 : bareilly ki barfi first song drama released \n",
      "예측 요약 : sweety tera drama song kriti barfi bagchi film scheduled\n",
      "\n",
      "\n",
      "원문 : british cyclist chris third consecutive fourth overall tour de france finishing race hours minutes seconds paris sunday year old rider finished event second lead moved within one win time record km day long grand tour featured total riders \n",
      "실제 요약 : wins th tour de france finishes race in under hrs \n",
      "예측 요약 : british chris consecutive tour finishing seconds sunday finished second\n",
      "\n",
      "\n",
      "원문 : man arrested london airport allegedly tried open plane door air flight man walked front plane sat next woman emergency exit wing suddenly across open door restrained crew flight \n",
      "실제 요약 : passenger arrested after trying to open plane door mid air \n",
      "예측 요약 : man airport allegedly flight man walked suddenly restrained flight\n",
      "\n",
      "\n",
      "원문 : least people killed others injured monday suicide bomb blast lahore near office pakistan pm nawaz sharif brother punjab cm shehbaz attack reportedly targeted police personnel deployed site buildings near blast site evacuated group claimed responsibility blast yet \n",
      "실제 요약 : killed in suicide blast near office of pak pm brother \n",
      "예측 요약 : people bomb office pm sharif shehbaz police group claimed\n",
      "\n",
      "\n",
      "원문 : uk foreign secretary boris johnson likened traditional greeting head butt visiting indigenous leaders new zealand said involves two people pressing together might misinterpreted pub glasgow boris visiting new zealand britain aims strengthen ties preparation brexit \n",
      "실제 요약 : uk foreign secy jokes could start pub fight \n",
      "예측 요약 : uk foreign likened butt leaders involves pub strengthen brexit\n",
      "\n",
      "\n",
      "원문 : starbucks customer stopped armed robbery hitting suspect head chair stabbing knife robber stabbed year old latter grabbed hold knife recovering suspect wearing mask carrying knife gun identified \n",
      "실제 요약 : starbucks diner hits robber on head with chair stops theft \n",
      "예측 요약 : starbucks customer suspect chair stabbing stabbed old recovering suspect\n",
      "\n",
      "\n",
      "원문 : five year old girl fined running homemade stall london received dozens offers set stalls festivals events girl cried council enforcement officers accused trading without licence however council later apologised cancelled fine \n",
      "실제 요약 : girl fined for stand gets of job offers \n",
      "예측 요약 : year girl london events girl council council later apologised\n",
      "\n",
      "\n",
      "원문 : apex consumer commission asked unitech refund lakh delay delivering possession property buyer cannot expected wait indefinitely said commission also held unitech guilty service unfair practice even receiving consideration amount failed deliver possession \n",
      "실제 요약 : unitech ordered to refund over lakh to buyer over delay \n",
      "예측 요약 : apex commission asked delay wait said commission receiving consideration\n",
      "\n",
      "\n",
      "원문 : delhi state consumer panel directed sbi refund lakh customer taking effective steps block stolen atm card also imposed cost lakh sbi filing frivolous appeal case service complainant received single penny years noted \n",
      "실제 요약 : sbi asked to refund lakh to woman over stolen atm card \n",
      "예측 요약 : delhi consumer panel refund lakh customer block atm penny\n",
      "\n",
      "\n",
      "원문 : bse sensex hit record closing high rising points nse nifty also surged points touch life time closing high rally technology stocks hdfc bank earnings helped market end fresh record closing high wipro reliance industries hdfc bank itc among major gainers \n",
      "실제 요약 : sensex nifty close at all time high \n",
      "예측 요약 : bse high nifty time high hdfc market high hdfc\n",
      "\n",
      "\n",
      "원문 : hdfc bank reported increase net profit crore quarter ended june compared period last year total bad loans rose crore crore year ago notably net interest income core income bank earns giving loans increased income jumped \n",
      "실제 요약 : hdfc bank net profit rises to crore \n",
      "예측 요약 : hdfc reported increase quarter total loans earns giving loans\n",
      "\n",
      "\n",
      "원문 : actor arjun kapoor said affiliate films derogatory towards women speaking influence films masses added filmmakers creative people start becoming society means infrastructure government let us drastically \n",
      "실제 요약 : will not associate with films derogatory towards women arjun \n",
      "예측 요약 : actor arjun derogatory speaking influence masses creative society government\n",
      "\n",
      "\n",
      "원문 : kerala police arrested production executive named kiran kumar following complaint filed malayalam actress posted private pictures social media kiran reportedly relationship also said ended got know kumar married allegedly blackmailing actress ransom \n",
      "실제 요약 : man arrested for posting private pics of malayalam actress \n",
      "예측 요약 : kerala police complaint actress social said married actress ransom\n",
      "\n",
      "\n",
      "원문 : actress twinkle khanna tweeted getting choked inside flight due co passenger socks added complained air hostess tweeting twinkle wrote around fell asleep sprayed feet \n",
      "실제 요약 : twinkle tweets about on flight due to socks \n",
      "예측 요약 : actress twinkle khanna choked added complained twinkle sprayed feet\n",
      "\n",
      "\n",
      "원문 : actress shabana azmi said filmmakers decide want cut scenes film board added censor board certify films censor scenes however much say cbfc autonomous body people taken board kind ruling party added shabana \n",
      "실제 요약 : directors should decide if they want cuts not board azmi \n",
      "예측 요약 : actress shabana said cut added censor censor added shabana\n",
      "\n",
      "\n",
      "원문 : oldest known world passed away sunday day celebrating th birthday death appeared heartbreaking accident died getting stuck maintenance hatch south florida museum ceo anne said devastated staff volunteers board members considered star added \n",
      "실제 요약 : world oldest dies day after th birthday \n",
      "예측 요약 : oldest known world passed away accident maintenance considered star\n",
      "\n",
      "\n"
     ]
    }
   ],
   "source": [
    "for i in range(50, 100):\n",
    "    print(\"원문 :\", seq2text(encoder_input_test[i]))\n",
    "    print(\"실제 요약 :\", seq2summary(decoder_input_test[i]))\n",
    "    print(\"예측 요약 :\", summarize(seq2text(encoder_input_test[i]).replace(' ','\\n'),words = 9).replace('\\n', ' ')) #단어수 9개 이하로 출력\n",
    "     # 공백을 줄바꿈으로 바꿔주고 줄바꿈을 공백으로 되돌려준다.\n",
    "    print(\"\\n\")"
   ]
  },
  {
   "cell_type": "code",
   "execution_count": 121,
   "id": "7a3f3303",
   "metadata": {
    "scrolled": true
   },
   "outputs": [
    {
     "name": "stdout",
     "output_type": "stream",
     "text": [
      "원문 : residents italy venice protesting mass tourism alleging eroded quality life damaged environment claimed tourism driving away local residents venice current population remains around people leaving year go way venice populated tourists protest organisers said \n",
      "실제 요약 : residents in venice protest against tourism \n",
      "예측 요약 : residents italy mass residents organisers said\n",
      "\n",
      "\n",
      "원문 : iran monday denied kuwait expelled ambassador reports emerged gulf country ordered expulsion iranian ambassador diplomats ambassador continue kuwait iranian officials said two countries involved row iran alleged links spy terror cell \n",
      "실제 요약 : iranian ambassador to remain in kuwait despite row \n",
      "예측 요약 : iran denied emerged iran spy terror\n",
      "\n",
      "\n",
      "원문 : prolonged drought italy may lead water country faces spring years reports said water supply shutdowns could last long eight hours daily parts country received rainfall totalling normal officials said drought could reportedly lead rome fountains turned \n",
      "실제 요약 : italy may face water due to drought \n",
      "예측 요약 : prolonged reports shutdowns parts officials reportedly\n",
      "\n",
      "\n",
      "원문 : minister road transport highways nitin gadkari monday said driverless cars technology takes away jobs allowed india unemployed youth big issue shortage drivers added currently driverless car technology tested several countries us uk \n",
      "실제 요약 : we will not allow driverless cars in india government \n",
      "예측 요약 : highways monday cars unemployed car countries\n",
      "\n",
      "\n",
      "원문 : president cinema owners association india nitin said plans write government seeking protection theatres indu sarkar screened decision taken view congress party workers certain elements creating ruckus film said \n",
      "실제 요약 : theatre owners to seek govt security for indu sarkar release \n",
      "예측 요약 : said government decision ruckus said\n",
      "\n",
      "\n",
      "원문 : central board film certification chief pahlaj nihalani said film alcohol scenes essential would require adult certificate merely putting warning corner screen whenever smoking drinking shown enough added pahlaj said superstars set example societal behaviour \n",
      "실제 요약 : film with alcohol scene would need certificate cbfc chief \n",
      "예측 요약 : certification nihalani scenes certificate corner societal\n",
      "\n",
      "\n",
      "원문 : last address nation outgoing president pranab mukherjee monday said parliament temple service people india passion successful discharging responsibilities judged time critical lens history added \n",
      "실제 요약 : my temple has been the parliament of india prez mukherjee \n",
      "예측 요약 : address nation president said\n",
      "\n",
      "\n",
      "원문 : india population crore people crore valid passport according reports quoting government data reportedly due limited interest means indians undertake foreign trips due decreasing job opportunities gulf countries india third terms issuing passports china us \n",
      "실제 요약 : only of india population has passports \n",
      "예측 요약 : india means trips countries india\n",
      "\n",
      "\n",
      "원문 : american record producer shared picture actor shah rukh khan upcoming collaboration song reportedly feature jab harry met sejal seen sporting indian suit coat bandh gala prayer shah rukh seen wearing leather jacket decent written \n",
      "실제 요약 : shares pic with srk from their \n",
      "예측 요약 : american actor feature suit prayer jacket\n",
      "\n",
      "\n",
      "원문 : actor farhan akhtar filmmaker ritesh sidhwani set produce biopic deepa malik first indian woman win medal paralympics talking project ritesh said met empowering pillar strength knew needed take fight big screen \n",
      "실제 요약 : biopic to be made on india st female medallist \n",
      "예측 요약 : actor farhan deepa empowering screen\n",
      "\n",
      "\n",
      "원문 : director raja krishna menon said actor akshay kumar simply brilliant neither akshay audience feel need endorse performance award said reacting akshay receiving nominations performance recent award shows think worth even thinking added menon nn \n",
      "실제 요약 : no need for award to akshay role director \n",
      "예측 요약 : director brilliant need reacting think thinking\n",
      "\n",
      "\n",
      "원문 : china monday warned india push luck determination safeguard considers sovereign chinese territory comes amid ongoing standoff two nations disputed doklam region warning india china claimed easier shake mountain shake chinese army \n",
      "실제 요약 : china warns india not to it amid standoff \n",
      "예측 요약 : china sovereign comes nations china easier\n",
      "\n",
      "\n",
      "원문 : online health publisher health monday said agreed bought private equity firm kkr deal valued billion deal brings together websites com com com kkr com com founded one popular health websites \n",
      "실제 요약 : to be bought by private equity firm kkr for cr \n",
      "예측 요약 : online health publisher health agreed\n",
      "\n",
      "\n",
      "원문 : philippine president rodrigo duterte warned drug users either face jail hell advocated capital punishment crime adding war drugs continue despite international criticism duterte said value human life way value mine life translates future generations lost \n",
      "실제 요약 : face jail or hell philippine prez duterte to drug users \n",
      "예측 요약 : philippine rodrigo duterte punishment adding duterte\n",
      "\n",
      "\n",
      "원문 : polish president announced controversial judiciary bills proposed replace supreme court judges government nominees comes tens thousands poles protested changes fear would undermine independence judiciary european commission threatened impose sanctions reforms scrapped \n",
      "실제 요약 : polish prez vetoes bill giving govt control over judiciary \n",
      "예측 요약 : polish announced controversial supreme nominees tens\n",
      "\n",
      "\n",
      "원문 : digital currency startup ripple finished second quarter value rising since year beginning company said purchases came institutional investors actively using ripple licensed money service business notably ripple listed exchanges currently third place market capitalisation bitcoin \n",
      "실제 요약 : bitcoin rival ripple value increased by in \n",
      "예측 요약 : digital second year purchases actively business\n",
      "\n",
      "\n",
      "원문 : employees state owned telecom firm bharat nigam limited called nationwide strike july given wage hike third pay revision committee hike recommended basis performance public sector firms employee union said bsnl became loss making entity anti bsnl policies government \n",
      "실제 요약 : bsnl employees to go on nationwide strike for wage hike \n",
      "예측 요약 : employees state owned nigam employee policies government\n",
      "\n",
      "\n",
      "원문 : government making good progress dealing bad loans weighing country banks hdfc bank managing director aditya puri said resolution debt help boost added notably india banking sector total lakh crore bad loans \n",
      "실제 요약 : govt making good progress in dealing with bad loans hdfc md \n",
      "예측 요약 : loans banks bank banking lakh loans\n",
      "\n",
      "\n",
      "원문 : journalist requested supreme court direct government let sri tirumala tirupati venkateswara temple exchange crore banned notes donated devotees man petition said non acceptance devotees offerings discriminatory meant wishes remain world second richest temple assets worth crore \n",
      "실제 요약 : plea in sc to let temple exchange old notes of cr \n",
      "예측 요약 : journalist requested court devotees devotees richest assets\n",
      "\n",
      "\n",
      "원문 : actor ranveer singh shared video sporting pot belly instagram captioned video dna pop culture reference means genetic material responsible winning earlier twitter users jokingly commented ranveer looked like condom referring outfit wore shahid kapoor birthday \n",
      "실제 요약 : video shows ranveer with belly \n",
      "예측 요약 : actor ranveer singh pot ranveer kapoor birthday\n",
      "\n",
      "\n",
      "원문 : american rapper nicki minaj joined snapchat weekend shared screenshot snapchat asking help fans post yo teach use wrote fans messages within hour post forcing log app \n",
      "실제 요약 : nicki minaj asks for help on how to use snapchat \n",
      "예측 요약 : american rapper asking yo wrote\n",
      "\n",
      "\n",
      "원문 : reacting release dhinchak pooja new song cash user tweeted dhinchak pooja back faith music restored user wrote another tweet read ears meanwhile user wrote oh back need kind confidence life \n",
      "실제 요약 : dhinchak pooja is back faith in music restored tweets user \n",
      "예측 요약 : reacting pooja new pooja kind\n",
      "\n",
      "\n",
      "원문 : john abraham said upcoming film parmanu story pokhran show anything political film based pokhran nuclear tests conducted atal bihari vajpayee india prime minister john added atal ji one greatest prime ministers film entertaining \n",
      "실제 요약 : not showing anything political in parmanu john \n",
      "예측 요약 : john abraham upcoming pokhran pokhran john\n",
      "\n",
      "\n",
      "원문 : esha deol shared collage mother hema malini instagram captioned mother house style icon loved style comfort maternity style picture seen wearing gown similar hema esha married bharat takhtani pregnant first child \n",
      "실제 요약 : my mother hema is my in house style icon esha deol \n",
      "예측 요약 : esha house loved seen esha bharat\n",
      "\n",
      "\n",
      "원문 : youtube personality dhinchak pooja released new song cash following removal several music videos youtube copyright issues released new song video songs including ka shooter hai mera scooter taken youtube copyright claim someone named singh \n",
      "실제 요약 : dhinchak pooja releases new song after copyright row \n",
      "예측 요약 : youtube dhinchak youtube youtube claim named\n",
      "\n",
      "\n",
      "원문 : delhi government monday flagged six mobile vans raise awareness goods services tax address concerns traders regarding new tax regime vans would run different markets across city around days officials would address issues raised traders also take suggestions \n",
      "실제 요약 : delhi govt launches gst vans to address traders concerns \n",
      "예측 요약 : delhi monday awareness officials issues\n",
      "\n",
      "\n",
      "원문 : south delhi municipal corporation proposed construction six storey parking hold least cars defence colony market solve issue insufficient parking space parking reportedly cost around crore proposed part civic bodies market development project focusing south delhi markets \n",
      "실제 요약 : govt plans parking at delhi defence colony \n",
      "예측 요약 : south market space market south markets\n",
      "\n",
      "\n",
      "원문 : central board excise customs criticised west bengal introduction way bill system without waiting launch centre way bill would rolled infrastructure ready employ chips qr codes ensure speedy movement goods gst way bill required transport goods worth \n",
      "실제 요약 : slams west bengal of way bill \n",
      "예측 요약 : customs bengal waiting launch chips transport\n",
      "\n",
      "\n",
      "원문 : maharashtra dam provides water cities thane district filled total capacity due heavy rainfall officials said water stock dam ensure nominal water cuts happen next year notably height dam increased accommodate water stock \n",
      "실제 요약 : heavy rainfall fills dam up to of its capacity \n",
      "예측 요약 : maharashtra provides filled said height increased\n",
      "\n",
      "\n",
      "원문 : jammu kashmir police monday said arrested people accused lynching dsp mohammad outside mosque month ago police added one accused killed encounter security forces earlier month reportedly police also recovered iron rod used hit \n",
      "실제 요약 : held for lynching kashmir cop near mosque \n",
      "예측 요약 : jammu kashmir said lynching rod hit\n",
      "\n",
      "\n",
      "원문 : microsoft announced long standing basic graphics editing program ms paint longer available next windows update called autumn creators update program first released first version windows ms paint removal part microsoft plan shut programs active development \n",
      "실제 요약 : microsoft to shut down ms years after its launch \n",
      "예측 요약 : microsoft long program microsoft shut active\n",
      "\n",
      "\n",
      "원문 : trailer upcoming film poster boys starring real life brothers sunny deol bobby deol actor shreyas talpade released film revolves around three characters lives change find pictures poster promoting directed shreyas talpade film scheduled release september \n",
      "실제 요약 : trailer of sunny deol bobby deol poster boys released \n",
      "예측 요약 : trailer sunny actor shreyas revolves promoting\n",
      "\n",
      "\n",
      "원문 : singer sunidhi chauhan said understand songs recreated india despite much talent country added many people waiting get opportunity talented fond sunidhi said original music required else music gets repetitive audiences \n",
      "실제 요약 : do not get why we recreate songs despite our talent sunidhi \n",
      "예측 요약 : singer sunidhi waiting sunidhi original\n",
      "\n",
      "\n",
      "원문 : actor amitabh bachchan announced role unicef goodwill ambassador extended two years said owing success polio drive bachchan working spreading awareness regarding vaccination mr infections children \n",
      "실제 요약 : bachchan role as unicef ambassador extended for more yrs \n",
      "예측 요약 : actor amitabh polio spreading\n"
     ]
    },
    {
     "name": "stdout",
     "output_type": "stream",
     "text": [
      "\n",
      "\n",
      "원문 : sweety tera drama first song kriti sanon ayushmann khurrana rajkummar rao starrer bareilly ki barfi released composed tanishk bagchi sung dev negi pandey shraddha pandit lyrics ahmed directed ashwiny iyer tiwari film scheduled release august \n",
      "실제 요약 : bareilly ki barfi first song drama released \n",
      "예측 요약 : sweety tera song bagchi film scheduled\n",
      "\n",
      "\n",
      "원문 : british cyclist chris third consecutive fourth overall tour de france finishing race hours minutes seconds paris sunday year old rider finished event second lead moved within one win time record km day long grand tour featured total riders \n",
      "실제 요약 : wins th tour de france finishes race in under hrs \n",
      "예측 요약 : british chris consecutive seconds sunday second\n",
      "\n",
      "\n",
      "원문 : man arrested london airport allegedly tried open plane door air flight man walked front plane sat next woman emergency exit wing suddenly across open door restrained crew flight \n",
      "실제 요약 : passenger arrested after trying to open plane door mid air \n",
      "예측 요약 : man airport allegedly man suddenly\n",
      "\n",
      "\n",
      "원문 : least people killed others injured monday suicide bomb blast lahore near office pakistan pm nawaz sharif brother punjab cm shehbaz attack reportedly targeted police personnel deployed site buildings near blast site evacuated group claimed responsibility blast yet \n",
      "실제 요약 : killed in suicide blast near office of pak pm brother \n",
      "예측 요약 : people bomb office sharif shehbaz police\n",
      "\n",
      "\n",
      "원문 : uk foreign secretary boris johnson likened traditional greeting head butt visiting indigenous leaders new zealand said involves two people pressing together might misinterpreted pub glasgow boris visiting new zealand britain aims strengthen ties preparation brexit \n",
      "실제 요약 : uk foreign secy jokes could start pub fight \n",
      "예측 요약 : uk foreign butt pub strengthen brexit\n",
      "\n",
      "\n",
      "원문 : starbucks customer stopped armed robbery hitting suspect head chair stabbing knife robber stabbed year old latter grabbed hold knife recovering suspect wearing mask carrying knife gun identified \n",
      "실제 요약 : starbucks diner hits robber on head with chair stops theft \n",
      "예측 요약 : starbucks customer stabbing old recovering\n",
      "\n",
      "\n",
      "원문 : five year old girl fined running homemade stall london received dozens offers set stalls festivals events girl cried council enforcement officers accused trading without licence however council later apologised cancelled fine \n",
      "실제 요약 : girl fined for stand gets of job offers \n",
      "예측 요약 : year girl girl later apologised\n",
      "\n",
      "\n",
      "원문 : apex consumer commission asked unitech refund lakh delay delivering possession property buyer cannot expected wait indefinitely said commission also held unitech guilty service unfair practice even receiving consideration amount failed deliver possession \n",
      "실제 요약 : unitech ordered to refund over lakh to buyer over delay \n",
      "예측 요약 : apex commission commission receiving consideration\n",
      "\n",
      "\n",
      "원문 : delhi state consumer panel directed sbi refund lakh customer taking effective steps block stolen atm card also imposed cost lakh sbi filing frivolous appeal case service complainant received single penny years noted \n",
      "실제 요약 : sbi asked to refund lakh to woman over stolen atm card \n",
      "예측 요약 : delhi consumer panel customer block atm\n",
      "\n",
      "\n",
      "원문 : bse sensex hit record closing high rising points nse nifty also surged points touch life time closing high rally technology stocks hdfc bank earnings helped market end fresh record closing high wipro reliance industries hdfc bank itc among major gainers \n",
      "실제 요약 : sensex nifty close at all time high \n",
      "예측 요약 : bse high nifty time hdfc market hdfc\n",
      "\n",
      "\n",
      "원문 : hdfc bank reported increase net profit crore quarter ended june compared period last year total bad loans rose crore crore year ago notably net interest income core income bank earns giving loans increased income jumped \n",
      "실제 요약 : hdfc bank net profit rises to crore \n",
      "예측 요약 : hdfc reported quarter total earns giving\n",
      "\n",
      "\n",
      "원문 : actor arjun kapoor said affiliate films derogatory towards women speaking influence films masses added filmmakers creative people start becoming society means infrastructure government let us drastically \n",
      "실제 요약 : will not associate with films derogatory towards women arjun \n",
      "예측 요약 : actor arjun creative society\n",
      "\n",
      "\n",
      "원문 : kerala police arrested production executive named kiran kumar following complaint filed malayalam actress posted private pictures social media kiran reportedly relationship also said ended got know kumar married allegedly blackmailing actress ransom \n",
      "실제 요약 : man arrested for posting private pics of malayalam actress \n",
      "예측 요약 : kerala police complaint said married ransom\n",
      "\n",
      "\n",
      "원문 : actress twinkle khanna tweeted getting choked inside flight due co passenger socks added complained air hostess tweeting twinkle wrote around fell asleep sprayed feet \n",
      "실제 요약 : twinkle tweets about on flight due to socks \n",
      "예측 요약 : actress twinkle khanna choked\n",
      "\n",
      "\n",
      "원문 : actress shabana azmi said filmmakers decide want cut scenes film board added censor board certify films censor scenes however much say cbfc autonomous body people taken board kind ruling party added shabana \n",
      "실제 요약 : directors should decide if they want cuts not board azmi \n",
      "예측 요약 : actress shabana said cut added shabana\n",
      "\n",
      "\n",
      "원문 : oldest known world passed away sunday day celebrating th birthday death appeared heartbreaking accident died getting stuck maintenance hatch south florida museum ceo anne said devastated staff volunteers board members considered star added \n",
      "실제 요약 : world oldest dies day after th birthday \n",
      "예측 요약 : oldest known passed maintenance considered star\n",
      "\n",
      "\n"
     ]
    }
   ],
   "source": [
    "for i in range(50, 100):\n",
    "    print(\"원문 :\", seq2text(encoder_input_test[i]))\n",
    "    print(\"실제 요약 :\", seq2summary(decoder_input_test[i]))\n",
    "    print(\"예측 요약 :\", summarize(seq2text(encoder_input_test[i]).replace(' ','\\n'),ratio=0.2).replace('\\n', ' ')) #원문의 20% 만 출력\n",
    "    # 공백을 줄바꿈으로 바꿔주고 줄바꿈을 공백으로 되돌려준다. \n",
    "    print(\"\\n\")"
   ]
  },
  {
   "cell_type": "code",
   "execution_count": 125,
   "id": "434cd5f6",
   "metadata": {},
   "outputs": [
    {
     "name": "stdout",
     "output_type": "stream",
     "text": [
      "원문 : residents italy venice protesting mass tourism alleging eroded quality life damaged environment claimed tourism driving away local residents venice current population remains around people leaving year go way venice populated tourists protest organisers said \n",
      "실제 요약 : residents in venice protest against tourism \n",
      "abstract예측 요약 :  residents escape in up to escape cow on new year\n",
      "summa예측 요약1 : residents italy mass eroded quality driving residents organisers said\n",
      "summa예측 요약2 : residents italy mass residents organisers said\n",
      "\n",
      "\n",
      "원문 : iran monday denied kuwait expelled ambassador reports emerged gulf country ordered expulsion iranian ambassador diplomats ambassador continue kuwait iranian officials said two countries involved row iran alleged links spy terror cell \n",
      "실제 요약 : iranian ambassador to remain in kuwait despite row \n",
      "abstract예측 요약 :  iran court orders iran to return to iran\n",
      "summa예측 요약1 : iran denied kuwait emerged diplomats officials iran spy terror\n",
      "summa예측 요약2 : iran denied emerged iran spy terror\n",
      "\n",
      "\n"
     ]
    }
   ],
   "source": [
    "for i in range(50, 52):\n",
    "    print(\"원문 :\", seq2text(encoder_input_test[i]))\n",
    "    print(\"실제 요약 :\", seq2summary(decoder_input_test[i]))\n",
    "    print(\"abstract예측 요약 :\", decode_sequence(encoder_input_test[i].reshape(1, text_max_len)))\n",
    "    print(\"summa예측 요약1 :\", summarize(seq2text(encoder_input_test[i]).replace(' ','\\n'),words = 9).replace('\\n', ' ')) #단어수 9개 이하로 출력\n",
    "    print(\"summa예측 요약2 :\", summarize(seq2text(encoder_input_test[i]).replace(' ','\\n'),ratio=0.2).replace('\\n', ' ')) #원문의 20% 만 출력\n",
    "     # 공백을 줄바꿈으로 바꿔주고 줄바꿈을 공백으로 되돌려준다.\n",
    "    print(\"\\n\")"
   ]
  },
  {
   "cell_type": "markdown",
   "id": "1c70b3e4",
   "metadata": {},
   "source": [
    "### 분석"
   ]
  },
  {
   "cell_type": "markdown",
   "id": "1e2c596d",
   "metadata": {},
   "source": [
    "예시로 두개의 기사만 뽑아서 예측 데이터로 비교해 보겠다. \n",
    "\n",
    "1. 거주자 이탈리아 베니스 항의 대규모 관광 침식된 삶의 질 손상 환경 주장 관광 여행 지역 주민들을 몰아내고 베니스 현재 인구는 떠나는 사람들 주위에 남아 있습니다 가세요 베니스 인구가 많은 관광객 항의 주최측이 말했습니다.<br>살제 요약 : 관광에 반대하는 베니스 시민들<br>\n",
    "\n",
    "실제 요약 : residents in venice protest against tourism <br>\n",
    "abstract예측 요약 :  residents escape in up to escape cow on new year<br>\n",
    "주민들은 새해에 소를 탈출하기 위해 탈출합니다.<br>\n",
    "summa예측 요약1 : residents italy mass eroded quality driving residents organisers said<br>\n",
    "거주자 이탈리아 대량 침식 품질 운전 거주자 주최측이 말했다<br>\n",
    "summa예측 요약2 : residents italy mass residents organisers said<br>\n",
    "거주자 이탈리아 대량 거주자 주최측이 말했다.<br>\n",
    "\n",
    "핵심단어는 주최자인 residents 는 다들 잘 찾아낸것 같다. 하지만 관광과, 항의, 반대 같은 핵심단어는 잘 찾아내지 못했다. <br>\n",
    "내용은 베니스 시민들이 관광에 반대하면서 관광객들을 몰아내는 내용입니다. <Br>\n",
    "    \n",
    "추상적 내용보다는 추출적  예측이 더 잘맞았다고 생각한다. 하지만 문법적으로는 확실히 추상적 내용이 더 나은 모습을 보여준다.\n",
    "\n",
    "2. 이란 월요일 부인 쿠웨이트 추방 대사 보고 걸프 국가 추방 명령 이란 대사 외교관 계속 쿠웨이트 이란 관리들은 두 나라가 연루되어 있다고 주장했습니다 이란이 스파이 테러 세포와 연결되었다고 주장<br> 실제 요약 : 이란 대사, 심각한 의견 대립에도 불구하고 쿠웨이트에 남다.<br>\n",
    "\n",
    "실제 요약 : iranian ambassador to remain in kuwait despite row <br>\n",
    "abstract예측 요약 :  iran court orders iran to return to iran<br>\n",
    "이란 법정은 이란을 이란에게 반환하라고 명령했다.<br>\n",
    "summa예측 요약1 : iran denied kuwait emerged diplomats officials iran spy terror\n",
    "이란은 쿠웨이트 등장 외교관 관리 이란 스파이 테러를 부인했다.<br>\n",
    "summa예측 요약2 : iran denied emerged iran spy terror\n",
    "이란은 들어난 스파이 테러를 부인했다.<br>\n",
    "\n",
    "핵심단어는 이란은 잘 찾았고 스파이 테러를 부인했다는 내용은 summa 예측이 잘 잡아낸 것 같다.<br> \n",
    "내용은 쿠웨이트 외교관이 이란이 테러에 연관되어 있어서 심각한 의견대립이 일어나는데 이란 대사는 그것을 부인하고 쿠웨이트에 남는다는 내용이다.<br>\n",
    "\n",
    "이번에도 추상적 내용보다는 추출적 내용이 더욱 내용을 잘 요약해 낸거 같다.   하지만 문법적으로는 확실히 추상적 내용이 더 나은 모습을 보여준다.\n"
   ]
  },
  {
   "cell_type": "markdown",
   "id": "017643a5",
   "metadata": {},
   "source": [
    "### 회고\n",
    "\n",
    "이론만 들어봤을때 추상적 예측이 거의 추출적 요약보다 나은 예측 방법이라고 생각했는데 실제로 요약 내용을 보니 추상적 내용은 없는 단어를 들고 올 수 있다보니까 내용이 잘못하면 산으로 가게되는 단점이 있었다. 그래도 문법적으로는 동사를 두개 쓰는 추출적 예측보다 추상적 예측이 안정적인 것 같다. "
   ]
  }
 ],
 "metadata": {
  "kernelspec": {
   "display_name": "Python 3 (ipykernel)",
   "language": "python",
   "name": "python3"
  },
  "language_info": {
   "codemirror_mode": {
    "name": "ipython",
    "version": 3
   },
   "file_extension": ".py",
   "mimetype": "text/x-python",
   "name": "python",
   "nbconvert_exporter": "python",
   "pygments_lexer": "ipython3",
   "version": "3.9.7"
  }
 },
 "nbformat": 4,
 "nbformat_minor": 5
}
