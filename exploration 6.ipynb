{
 "cells": [
  {
   "cell_type": "code",
   "execution_count": 1,
   "id": "4e969d61",
   "metadata": {
    "scrolled": true
   },
   "outputs": [
    {
     "name": "stdout",
     "output_type": "stream",
     "text": [
      "<module 'glob' from '/opt/conda/lib/python3.9/glob.py'>\n",
      "2.6.0\n"
     ]
    }
   ],
   "source": [
    "import glob\n",
    "import tensorflow\n",
    "\n",
    "print(glob)\n",
    "print(tensorflow.__version__)"
   ]
  },
  {
   "cell_type": "markdown",
   "id": "51512b46",
   "metadata": {},
   "source": [
    "### 데이터 읽어오기"
   ]
  },
  {
   "cell_type": "code",
   "execution_count": 2,
   "id": "bafe9ce9",
   "metadata": {},
   "outputs": [
    {
     "name": "stdout",
     "output_type": "stream",
     "text": [
      "데이터 크기: 187088\n",
      "Examples:\n",
      " [\"Busted flat in Baton Rouge, waitin' for a train\", \"And I's feelin' near as faded as my jeans\", 'Bobby thumbed a diesel down, just before it rained']\n"
     ]
    }
   ],
   "source": [
    "import os, re \n",
    "import numpy as np\n",
    "import tensorflow as tf\n",
    "\n",
    "txt_file_path = os.getenv('HOME')+'/aiffel/lyricist/data/lyrics/*'\n",
    "\n",
    "txt_list = glob.glob(txt_file_path)\n",
    "    \n",
    "raw_corpus = []\n",
    "\n",
    "# 여러개의 txt 파일을 모두 읽어서 raw_corpus 에 담습니다.\n",
    "for txt_file in txt_list:\n",
    "    with open(txt_file, \"r\") as f:\n",
    "        raw = f.read().splitlines()\n",
    "        raw_corpus.extend(raw)\n",
    "\n",
    "print(\"데이터 크기:\", len(raw_corpus))\n",
    "print(\"Examples:\\n\", raw_corpus[:3])"
   ]
  },
  {
   "cell_type": "markdown",
   "id": "cf04ddb3",
   "metadata": {},
   "source": [
    "### 데이터 정제"
   ]
  },
  {
   "cell_type": "markdown",
   "id": "32a5b458",
   "metadata": {},
   "source": [
    "앞서 배운 테크닉들을 활용해 문장 생성에 적합한 모양새로 데이터를 정제하세요!\n",
    "\n",
    "preprocess_sentence() 함수를 만든 것을 기억하시죠? 이를 활용해 데이터를 정제하도록 하겠습니다.\n",
    "\n",
    "추가로 지나치게 긴 문장은 다른 데이터들이 과도한 Padding을 갖게 하므로 제거합니다. 너무 긴 문장은 노래 가사 작사하기에 어울리지 않을 수도 있겠죠.\n",
    "그래서 이번에는 문장을 토큰화 했을 때 토큰의 개수가 15개를 넘어가는 문장을 학습 데이터에서 제외하기 를 권합니다."
   ]
  },
  {
   "cell_type": "code",
   "execution_count": 3,
   "id": "3a011610",
   "metadata": {},
   "outputs": [
    {
     "name": "stdout",
     "output_type": "stream",
     "text": [
      "Busted flat in Baton Rouge, waitin' for a train\n",
      "And I's feelin' near as faded as my jeans\n",
      "Bobby thumbed a diesel down, just before it rained\n",
      "I was playin' soft while Bobby sang the blues, yeah\n",
      "Windshield wipers slappin' time, I was holdin' Bobby's hand in mine\n",
      "Nothin', don't mean nothin' hon' if it ain't free, no no\n",
      "And, feelin' good was easy, Lord, when he sang the blues\n",
      "You know, feelin' good was good enough for me\n"
     ]
    }
   ],
   "source": [
    "for idx, sentence in enumerate(raw_corpus): #enumerate 열거하다\n",
    "    if len(sentence.split(\" \")) >= 15 : continue  #길이가 15인 문장은 건너뜁니다.\n",
    "    if len(sentence) == 0: continue   # 길이가 0인 문장은 건너뜁니다.\n",
    "    if sentence[-1] == \":\": continue  # 문장의 끝이 : 인 문장은 건너뜁니다.    \n",
    "    if idx > 9: break   # 일단 문장 10개만 확인해 볼 겁니다.\n",
    "        \n",
    "    print(sentence)"
   ]
  },
  {
   "cell_type": "markdown",
   "id": "34ac08b1",
   "metadata": {},
   "source": [
    "이런 전처리를 위해 정규표현식(Regex)을 이용한 필터링이 유용하게 사용됩니다."
   ]
  },
  {
   "cell_type": "code",
   "execution_count": 4,
   "id": "f33efe67",
   "metadata": {},
   "outputs": [
    {
     "name": "stdout",
     "output_type": "stream",
     "text": [
      "<start> this is sample sentence . <end>\n"
     ]
    }
   ],
   "source": [
    "# 입력된 문장을\n",
    "#     1. 소문자로 바꾸고, 양쪽 공백을 지웁니다\n",
    "#     2. 특수문자 양쪽에 공백을 넣고\n",
    "#     3. 여러개의 공백은 하나의 공백으로 바꿉니다\n",
    "#     4. a-zA-Z?.!,¿가 아닌 모든 문자를 하나의 공백으로 바꿉니다\n",
    "#     5. 다시 양쪽 공백을 지웁니다\n",
    "#     6. 문장 시작에는 <start>, 끝에는 <end>를 추가합니다\n",
    "def preprocess_sentence(sentence):\n",
    "    sentence = sentence.lower().strip() # 1\n",
    "    sentence = re.sub(r\"([?.!,¿])\", r\" \\1 \", sentence) # 2\n",
    "    sentence = re.sub(r'[\" \"]+', \" \", sentence) # 3\n",
    "    sentence = re.sub(r\"[^a-zA-Z?.!,¿]+\", \" \", sentence) # 4\n",
    "    sentence = sentence.strip() # 5\n",
    "    sentence = '<start> ' + sentence + ' <end>' # 6\n",
    "    return sentence\n",
    "\n",
    "# 이 문장이 어떻게 필터링되는지 확인해 보세요.\n",
    "print(preprocess_sentence(\"This @_is ;;;sample        sentence.\"))"
   ]
  },
  {
   "cell_type": "code",
   "execution_count": 5,
   "id": "5b930c1f",
   "metadata": {},
   "outputs": [
    {
     "data": {
      "text/plain": [
       "['<start> busted flat in baton rouge , waitin for a train <end>',\n",
       " '<start> and i s feelin near as faded as my jeans <end>',\n",
       " '<start> bobby thumbed a diesel down , just before it rained <end>',\n",
       " '<start> i was playin soft while bobby sang the blues , yeah <end>',\n",
       " '<start> windshield wipers slappin time , i was holdin bobby s hand in mine <end>',\n",
       " '<start> nothin , don t mean nothin hon if it ain t free , no no <end>',\n",
       " '<start> and , feelin good was easy , lord , when he sang the blues <end>',\n",
       " '<start> you know , feelin good was good enough for me <end>',\n",
       " '<start> there bobby shared the secrets of my soul <end>',\n",
       " '<start> through all kinds of weather , through everything we done <end>']"
      ]
     },
     "execution_count": 5,
     "metadata": {},
     "output_type": "execute_result"
    }
   ],
   "source": [
    "corpus = []\n",
    "\n",
    "for sentence in raw_corpus:\n",
    "    if len(sentence) == 0: continue\n",
    "    if sentence[-1] == \":\": continue\n",
    "    preprocessed_sentence = preprocess_sentence(sentence)\n",
    "    if len(sentence.split(\" \")) >= 15 : continue #길이가 15이상인 것은 건너뛴다.\n",
    "    corpus.append(preprocessed_sentence)\n",
    "   \n",
    "corpus[:10]"
   ]
  },
  {
   "cell_type": "code",
   "execution_count": 6,
   "id": "c69d3ac4",
   "metadata": {},
   "outputs": [
    {
     "name": "stdout",
     "output_type": "stream",
     "text": [
      "[[   2 4067 1727 ...    0    0    0]\n",
      " [   2    8    5 ...    0    0    0]\n",
      " [   2  883 7177 ...    0    0    0]\n",
      " ...\n",
      " [   5   22  716 ... 3882    4    3]\n",
      " [   5   22  716 ... 3882    4    3]\n",
      " [   5   22  716 ... 3882   19    3]] <keras_preprocessing.text.Tokenizer object at 0x7f91ea60c730>\n"
     ]
    }
   ],
   "source": [
    "def tokenize(corpus):\n",
    "    # 12000단어를 기억할 수 있는 tokenizer를 만들겁니다\n",
    "    # 12000단어에 포함되지 못한 단어는 '<unk>'로 바꾼다.\n",
    "    tokenizer = tf.keras.preprocessing.text.Tokenizer(\n",
    "        num_words=12000, \n",
    "        filters=' ',\n",
    "        oov_token=\"<unk>\"\n",
    "    )\n",
    "    # corpus를 이용해 tokenizer 내부의 단어장을 완성합니다\n",
    "    tokenizer.fit_on_texts(corpus)\n",
    "    # 준비한 tokenizer를 이용해 corpus를 Tensor로 변환합니다\n",
    "    tensor = tokenizer.texts_to_sequences(corpus)   \n",
    "    # 입력 데이터의 시퀀스 길이를 일정하게 맞춰줍니다\n",
    "    tensor = tf.keras.preprocessing.sequence.pad_sequences(tensor, padding='post',   maxlen=15)  #토큰수를 15개 이하로 출력\n",
    "    print(tensor,tokenizer)\n",
    "    return tensor, tokenizer\n",
    "\n",
    "tensor, tokenizer = tokenize(corpus)"
   ]
  },
  {
   "cell_type": "code",
   "execution_count": 7,
   "id": "7a119c47",
   "metadata": {
    "scrolled": true
   },
   "outputs": [
    {
     "name": "stdout",
     "output_type": "stream",
     "text": [
      "1 : <unk>\n",
      "2 : <start>\n",
      "3 : <end>\n",
      "4 : ,\n",
      "5 : i\n",
      "6 : the\n",
      "7 : you\n",
      "8 : and\n",
      "9 : a\n",
      "10 : to\n"
     ]
    }
   ],
   "source": [
    "for idx in tokenizer.index_word:\n",
    "    print(idx, \":\", tokenizer.index_word[idx])\n",
    "\n",
    "    if idx >= 10: break"
   ]
  },
  {
   "cell_type": "markdown",
   "id": "7c9fe4b6",
   "metadata": {},
   "source": [
    "토큰으로 잘 쪼개졌다. "
   ]
  },
  {
   "cell_type": "code",
   "execution_count": 8,
   "id": "ebfdfbc7",
   "metadata": {
    "scrolled": true
   },
   "outputs": [
    {
     "name": "stdout",
     "output_type": "stream",
     "text": [
      "[[    2  4067  1727    14 10766  4505     4  1181    28     9   658     3\n",
      "      0     0     0]\n",
      " [    2     8     5    16   512   878    81  2544    81    13   892     3\n",
      "      0     0     0]\n",
      " [    2   883  7177     9  5647    59     4    35   178    11  4263     3\n",
      "      0     0     0]]\n"
     ]
    }
   ],
   "source": [
    "print(tensor[:3, :16])\n",
    "# 생성된 텐서 데이터를 3번째 행, 16번째 열까지만 출력해 봅시다. \n",
    "#토큰의 갯수가 16개까지 출력하기로 했지만 maxlen=15으로 인해 15개만 출력이 된다. "
   ]
  },
  {
   "cell_type": "code",
   "execution_count": 9,
   "id": "15b46d34",
   "metadata": {},
   "outputs": [
    {
     "name": "stdout",
     "output_type": "stream",
     "text": [
      "[    2  4067  1727    14 10766  4505     4  1181    28     9   658     3\n",
      "     0     0]\n",
      "[ 4067  1727    14 10766  4505     4  1181    28     9   658     3     0\n",
      "     0     0]\n"
     ]
    }
   ],
   "source": [
    "src_input = tensor[:, :-1]  # tensor에서 마지막 토큰을 잘라내서 소스 문장을 생성합니다. 마지막 토큰은 <END>가 아니라 <pad>일 가능성이 높습니다.\n",
    "tgt_input = tensor[:, 1:]    # tensor에서 <START>를 잘라내서 타겟 문장을 생성합니다.\n",
    "\n",
    "print(src_input[0]) #첫번째 행 맨뒤 꺼 하나 '0'뺀거\n",
    "print(tgt_input[0]) #첫번째 행, 맨앞 꺼 하나 '2'뺀거"
   ]
  },
  {
   "cell_type": "markdown",
   "id": "5d503564",
   "metadata": {},
   "source": [
    "## 평가 데이터셋 분리"
   ]
  },
  {
   "cell_type": "markdown",
   "id": "6bceafff",
   "metadata": {},
   "source": [
    "데이터가 텐서로 변환되었다. "
   ]
  },
  {
   "cell_type": "markdown",
   "id": "ac8e613e",
   "metadata": {},
   "source": [
    " sklearn 모듈의 train_test_split() 함수를 사용해 훈련 데이터와 평가 데이터를 분리하도록 하겠습니다. 단어장의 크기는 12,000 이상 으로 설정하세요! 총 데이터의 20% 를 평가 데이터셋으로 사용해 주세요!"
   ]
  },
  {
   "cell_type": "code",
   "execution_count": 10,
   "id": "88a42ef6",
   "metadata": {},
   "outputs": [],
   "source": [
    "from sklearn.model_selection import train_test_split\n",
    "enc_train, enc_val, dec_train, dec_val = train_test_split(src_input, \n",
    "                                                          tgt_input,\n",
    "                                                          test_size=0.2,\n",
    "                                                          shuffle=True, \n",
    "                                                          random_state=1)"
   ]
  },
  {
   "cell_type": "code",
   "execution_count": 11,
   "id": "2f14f353",
   "metadata": {
    "scrolled": true
   },
   "outputs": [
    {
     "name": "stdout",
     "output_type": "stream",
     "text": [
      "encoding Train:  (132788, 14)\n",
      "decoding Train:  (132788, 14)\n"
     ]
    }
   ],
   "source": [
    "print('encoding Train: ', enc_train.shape)\n",
    "print('decoding Train: ', dec_train.shape)"
   ]
  },
  {
   "cell_type": "code",
   "execution_count": 12,
   "id": "05670e43",
   "metadata": {},
   "outputs": [],
   "source": [
    "BUFFER_SIZE = len(enc_train)\n",
    "BATCH_SIZE = 256\n",
    "steps_per_epoch = len(enc_train) // BATCH_SIZE"
   ]
  },
  {
   "cell_type": "code",
   "execution_count": 13,
   "id": "0e53cd5e",
   "metadata": {},
   "outputs": [
    {
     "data": {
      "text/plain": [
       "<BatchDataset shapes: ((256, 14), (256, 14)), types: (tf.int32, tf.int32)>"
      ]
     },
     "execution_count": 13,
     "metadata": {},
     "output_type": "execute_result"
    }
   ],
   "source": [
    "dataset = tf.data.Dataset.from_tensor_slices((enc_train, dec_train))\n",
    "dataset = dataset.shuffle(BUFFER_SIZE)\n",
    "dataset = dataset.batch(BATCH_SIZE, drop_remainder=True)\n",
    "dataset"
   ]
  },
  {
   "cell_type": "markdown",
   "id": "9a227e8b",
   "metadata": {},
   "source": [
    "### 인공지능 만들기"
   ]
  },
  {
   "cell_type": "markdown",
   "id": "f1457296",
   "metadata": {},
   "source": [
    " 모델의 Embedding Size와 Hidden Size를 조절하며 10 Epoch 안에 val_loss 값을 2.2 수준으로 줄일 수 있는 모델을 설계하세요! (Loss는 아래 제시된 Loss 함수를 그대로 사용!)\n",
    "\n",
    "그리고 멋진 모델이 생성한 가사 한 줄을 제출하시길 바랍니다!"
   ]
  },
  {
   "cell_type": "markdown",
   "id": "9d189a03",
   "metadata": {},
   "source": [
    " tf.keras.Model을 Subclassing 한다."
   ]
  },
  {
   "cell_type": "code",
   "execution_count": 14,
   "id": "f42e9e43",
   "metadata": {},
   "outputs": [],
   "source": [
    "from tensorflow import keras\n",
    "from tensorflow.keras import layers"
   ]
  },
  {
   "cell_type": "code",
   "execution_count": 15,
   "id": "7fa46320",
   "metadata": {},
   "outputs": [],
   "source": [
    "from tensorflow.keras.layers import Embedding, LSTM, Dense"
   ]
  },
  {
   "cell_type": "code",
   "execution_count": 16,
   "id": "e246cf95",
   "metadata": {},
   "outputs": [],
   "source": [
    "class TextGenerator(tf.keras.Model):\n",
    "    def __init__(self, vocab_size, embedding_size, hidden_size):\n",
    "        super(TextGenerator, self).__init__()\n",
    "        \n",
    "        self.embedding = tf.keras.layers.Embedding(vocab_size, embedding_size)\n",
    "        self.batnorm = tf.keras.layers.BatchNormalization() #배치 정규화\n",
    "        self.rnn_1 = tf.keras.layers.LSTM(hidden_size, return_sequences=True)\n",
    "        self.rnn_2 = tf.keras.layers.LSTM(hidden_size, return_sequences=True)\n",
    "        self.linear = tf.keras.layers.Dense(vocab_size)\n",
    "    def call(self, x):\n",
    "        out = self.embedding(x)\n",
    "        out = self.batnorm(out)\n",
    "        out = self.rnn_1(out)\n",
    "        out = self.rnn_2(out)\n",
    "        out = self.linear(out)\n",
    "        \n",
    "        return out\n",
    "    \n",
    "embedding_size = 600\n",
    "hidden_size = 2400\n",
    "model = TextGenerator(tokenizer.num_words + 1, embedding_size , hidden_size)"
   ]
  },
  {
   "cell_type": "markdown",
   "id": "fd246d87",
   "metadata": {},
   "source": [
    "### 모델 학습"
   ]
  },
  {
   "cell_type": "code",
   "execution_count": 21,
   "id": "2f89546a",
   "metadata": {
    "scrolled": true
   },
   "outputs": [
    {
     "name": "stdout",
     "output_type": "stream",
     "text": [
      "Epoch 1/10\n",
      "519/519 [==============================] - 374s 673ms/step - loss: 3.1961 - val_loss: 4.8063\n",
      "Epoch 2/10\n",
      "519/519 [==============================] - 349s 672ms/step - loss: 2.6836 - val_loss: 2.6348\n",
      "Epoch 3/10\n",
      "519/519 [==============================] - 349s 673ms/step - loss: 2.3531 - val_loss: 2.4591\n",
      "Epoch 4/10\n",
      "519/519 [==============================] - 349s 673ms/step - loss: 2.0420 - val_loss: 2.3399\n",
      "Epoch 5/10\n",
      "519/519 [==============================] - 350s 674ms/step - loss: 1.7545 - val_loss: 2.2600\n",
      "Epoch 6/10\n",
      "519/519 [==============================] - 350s 674ms/step - loss: 1.5017 - val_loss: 2.2130\n",
      "Epoch 7/10\n",
      "519/519 [==============================] - 350s 675ms/step - loss: 1.2937 - val_loss: 2.1948\n",
      "Epoch 8/10\n",
      "519/519 [==============================] - 350s 674ms/step - loss: 1.1360 - val_loss: 2.2046\n",
      "Epoch 9/10\n",
      "519/519 [==============================] - 350s 674ms/step - loss: 1.0332 - val_loss: 2.2234\n",
      "Epoch 10/10\n",
      "519/519 [==============================] - 350s 674ms/step - loss: 0.9739 - val_loss: 2.2495\n"
     ]
    }
   ],
   "source": [
    "history = []\n",
    "epochs = 10\n",
    "\n",
    "optimizer = tf.keras.optimizers.Adam()\n",
    "\n",
    "loss = tf.keras.losses.SparseCategoricalCrossentropy(\n",
    "    from_logits=True,\n",
    "    reduction='none'\n",
    ")\n",
    "model.compile(loss=loss, optimizer=optimizer)\n",
    "\n",
    "history = model.fit(enc_train, \n",
    "          dec_train, \n",
    "          epochs=epochs,\n",
    "          batch_size=256,\n",
    "          validation_data=(enc_val, dec_val),\n",
    "          verbose=1)"
   ]
  },
  {
   "cell_type": "code",
   "execution_count": 17,
   "id": "864f74a0",
   "metadata": {
    "scrolled": true
   },
   "outputs": [
    {
     "name": "stdout",
     "output_type": "stream",
     "text": [
      "Epoch 1/7\n",
      "519/519 [==============================] - 395s 709ms/step - loss: 3.1697 - val_loss: 3.3958\n",
      "Epoch 2/7\n",
      "519/519 [==============================] - 371s 716ms/step - loss: 2.6522 - val_loss: 2.6062\n",
      "Epoch 3/7\n",
      "519/519 [==============================] - 372s 717ms/step - loss: 2.3094 - val_loss: 2.4313\n",
      "Epoch 4/7\n",
      "519/519 [==============================] - 372s 716ms/step - loss: 1.9851 - val_loss: 2.3093\n",
      "Epoch 5/7\n",
      "519/519 [==============================] - 372s 717ms/step - loss: 1.6873 - val_loss: 2.2315\n",
      "Epoch 6/7\n",
      "519/519 [==============================] - 372s 717ms/step - loss: 1.4305 - val_loss: 2.1909\n",
      "Epoch 7/7\n",
      "519/519 [==============================] - 372s 717ms/step - loss: 1.2275 - val_loss: 2.1850\n"
     ]
    }
   ],
   "source": [
    "history = []\n",
    "epochs = 7\n",
    "\n",
    "optimizer = tf.keras.optimizers.Adam()\n",
    "\n",
    "loss = tf.keras.losses.SparseCategoricalCrossentropy(\n",
    "    from_logits=True,\n",
    "    reduction='none'\n",
    ")\n",
    "model.compile(loss=loss, optimizer=optimizer)\n",
    "\n",
    "history = model.fit(enc_train, \n",
    "          dec_train, \n",
    "          epochs=epochs,\n",
    "          batch_size=256,\n",
    "          validation_data=(enc_val, dec_val),\n",
    "          verbose=1)"
   ]
  },
  {
   "cell_type": "markdown",
   "id": "91d4e283",
   "metadata": {},
   "source": [
    "epoch 7 에서 val loss값이 2.2 이하로 떨어졌다."
   ]
  },
  {
   "cell_type": "code",
   "execution_count": 18,
   "id": "7b07bd04",
   "metadata": {},
   "outputs": [],
   "source": [
    "def generate_text(model, tokenizer, init_sentence=\"<start>\", max_len=20):\n",
    "    # 테스트를 위해서 입력받은 init_sentence도 텐서로 변환합니다\n",
    "    test_input = tokenizer.texts_to_sequences([init_sentence])\n",
    "    test_tensor = tf.convert_to_tensor(test_input, dtype=tf.int64)\n",
    "    end_token = tokenizer.word_index[\"<end>\"]\n",
    "\n",
    "    # 단어 하나씩 예측해 문장을 만듭니다\n",
    "    #    1. 입력받은 문장의 텐서를 입력합니다\n",
    "    #    2. 예측된 값 중 가장 높은 확률인 word index를 뽑아냅니다\n",
    "    #    3. 2에서 예측된 word index를 문장 뒤에 붙입니다\n",
    "    #    4. 모델이 <end>를 예측했거나, max_len에 도달했다면 문장 생성을 마칩니다\n",
    "    while True:\n",
    "        # 1\n",
    "        predict = model(test_tensor) \n",
    "        # 2\n",
    "        predict_word = tf.argmax(tf.nn.softmax(predict, axis=-1), axis=-1)[:, -1] \n",
    "        # 3 \n",
    "        test_tensor = tf.concat([test_tensor, tf.expand_dims(predict_word, axis=0)], axis=-1)\n",
    "        # 4\n",
    "        if predict_word.numpy()[0] == end_token: break\n",
    "        if test_tensor.shape[1] >= max_len: break\n",
    "\n",
    "    generated = \"\"\n",
    "    # tokenizer를 이용해 word index를 단어로 하나씩 변환합니다 \n",
    "    for word_index in test_tensor[0].numpy():\n",
    "        generated += tokenizer.index_word[word_index] + \" \"\n",
    "\n",
    "    return generated"
   ]
  },
  {
   "cell_type": "code",
   "execution_count": 19,
   "id": "03025e63",
   "metadata": {},
   "outputs": [
    {
     "data": {
      "text/plain": [
       "'<start> i love you so much , so , i do <end> '"
      ]
     },
     "execution_count": 19,
     "metadata": {},
     "output_type": "execute_result"
    }
   ],
   "source": [
    "generate_text(model, tokenizer, init_sentence=\"<start> i love\", max_len=20)"
   ]
  },
  {
   "cell_type": "markdown",
   "id": "a4072bc8",
   "metadata": {},
   "source": [
    "나는 너를 매우 좋아해 그래서 나는 한다. 라는 멋진 문장이 나왔다. "
   ]
  },
  {
   "cell_type": "code",
   "execution_count": 20,
   "id": "5e3e155b",
   "metadata": {
    "scrolled": true
   },
   "outputs": [
    {
     "data": {
      "text/plain": [
       "'<start> she s got me runnin round and round <end> '"
      ]
     },
     "execution_count": 20,
     "metadata": {},
     "output_type": "execute_result"
    }
   ],
   "source": [
    "generate_text(model, tokenizer, init_sentence=\"<start> she\", max_len=20)"
   ]
  },
  {
   "cell_type": "markdown",
   "id": "3af741fe",
   "metadata": {},
   "source": [
    "그녀는 나를 둥글게 둥글게 해 라는 문장이 나왔다."
   ]
  },
  {
   "cell_type": "code",
   "execution_count": 21,
   "id": "f3f68e6f",
   "metadata": {},
   "outputs": [
    {
     "data": {
      "text/plain": [
       "'<start> <unk> <unk> <unk> <unk> <end> '"
      ]
     },
     "execution_count": 21,
     "metadata": {},
     "output_type": "execute_result"
    }
   ],
   "source": [
    "generate_text(model, tokenizer, init_sentence=\"<start> jappari\", max_len=20)"
   ]
  },
  {
   "cell_type": "markdown",
   "id": "dbd1656e",
   "metadata": {},
   "source": [
    "jappari 라는 단어장에 없는 단어를 쓰면 \\<unk>가 뜬다."
   ]
  },
  {
   "cell_type": "markdown",
   "id": "8914edd4",
   "metadata": {},
   "source": [
    "### 회고"
   ]
  },
  {
   "cell_type": "markdown",
   "id": "07ae10ed",
   "metadata": {},
   "source": [
    "val - loss 를 2.2 이하로 내리기가 매우 힘들었던것 같다. 처음에 긴 문장은 자르고 maxlen으로 단어를 더 쳐내다 보니 아무래도 참고 데이터 량이 줄어서 그런지 embedding_size,와 hidden size를 크게하면 과적합이 일어났다.<br> 하지만, 과적합을 방지하기 위해 \n",
    "self.batnorm = tf.keras.layers.BatchNormalization() #배치 정규화를 써주니 그래도 과적합이 일어나는게 조금은 줄어들었고 2.2 이하로 내리는데 성공하였다. <br>\n",
    "중간에 여러 오류들이 있었지만 해결해 나가는 과정도 꽤나 재밌었던것 같다."
   ]
  }
 ],
 "metadata": {
  "kernelspec": {
   "display_name": "Python 3 (ipykernel)",
   "language": "python",
   "name": "python3"
  },
  "language_info": {
   "codemirror_mode": {
    "name": "ipython",
    "version": 3
   },
   "file_extension": ".py",
   "mimetype": "text/x-python",
   "name": "python",
   "nbconvert_exporter": "python",
   "pygments_lexer": "ipython3",
   "version": "3.9.7"
  }
 },
 "nbformat": 4,
 "nbformat_minor": 5
}
